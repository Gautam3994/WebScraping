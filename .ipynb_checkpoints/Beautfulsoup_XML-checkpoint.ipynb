{
 "cells": [
  {
   "cell_type": "code",
   "execution_count": 3,
   "metadata": {},
   "outputs": [
    {
     "name": "stdout",
     "output_type": "stream",
     "text": [
      "<class 'bs4.BeautifulSoup'>\n"
     ]
    },
    {
     "data": {
      "text/plain": [
       "<title> The story of Tom and Jerry </title>"
      ]
     },
     "execution_count": 3,
     "metadata": {},
     "output_type": "execute_result"
    }
   ],
   "source": [
    "from bs4 import BeautifulSoup\n",
    "from lxml import etree\n",
    "\n",
    "with open(\"files/TomJerry_WithImages.html\") as html:\n",
    "    soup = BeautifulSoup(html, 'lxml')\n",
    "    \n",
    "print(type(soup))\n",
    "soup.title"
   ]
  },
  {
   "cell_type": "code",
   "execution_count": 7,
   "metadata": {},
   "outputs": [
    {
     "name": "stdout",
     "output_type": "stream",
     "text": [
      "<class 'lxml.etree._ElementTree'>\n"
     ]
    }
   ],
   "source": [
    "\"\"\"XML\"\"\"\n",
    "with open(\"files/TomJerry_WithImages.html\") as html:\n",
    "    html_parser = etree.HTMLParser()\n",
    "    tree = etree.parse(html, html_parser)\n",
    "print(type(tree))"
   ]
  },
  {
   "cell_type": "code",
   "execution_count": 9,
   "metadata": {},
   "outputs": [
    {
     "data": {
      "text/plain": [
       "<Element html at 0x7f25e9bf7870>"
      ]
     },
     "execution_count": 9,
     "metadata": {},
     "output_type": "execute_result"
    }
   ],
   "source": [
    "root = tree.getroot()\n",
    "root"
   ]
  },
  {
   "cell_type": "code",
   "execution_count": 11,
   "metadata": {},
   "outputs": [
    {
     "name": "stdout",
     "output_type": "stream",
     "text": [
      "[<Element html at 0x7f25e9bf7870>]\n",
      "[]\n"
     ]
    }
   ],
   "source": [
    "\"\"\"Below finds all tags directly under the root node\"\"\"\n",
    "print(tree.xpath(\"/html\"))\n",
    "print(tree.xpath(\"/head\"))"
   ]
  },
  {
   "cell_type": "code",
   "execution_count": 12,
   "metadata": {},
   "outputs": [
    {
     "name": "stdout",
     "output_type": "stream",
     "text": [
      "[<Element title at 0x7f25e9ba3d20>]\n"
     ]
    }
   ],
   "source": [
    "\"\"\"non-direct\"\"\"\n",
    "print(tree.xpath(\"/html/head/title\"))"
   ]
  },
  {
   "cell_type": "code",
   "execution_count": 13,
   "metadata": {},
   "outputs": [
    {
     "name": "stdout",
     "output_type": "stream",
     "text": [
      "[' The story of Tom and Jerry ']\n"
     ]
    }
   ],
   "source": [
    "\"\"\"Text content\"\"\"\n",
    "print(tree.xpath(\"/html/head/title/text()\"))"
   ]
  },
  {
   "cell_type": "code",
   "execution_count": 14,
   "metadata": {},
   "outputs": [
    {
     "name": "stdout",
     "output_type": "stream",
     "text": [
      "[<Element html at 0x7f25e9bf7870>, <Element head at 0x7f25e97e68c0>, <Element title at 0x7f25e9f5da00>, <Element body at 0x7f25f5e2c190>, <Element h1 at 0x7f25e9f13aa0>, <Element img at 0x7f25e994ef50>, <Element p at 0x7f25e9f5b320>, <Element a at 0x7f25e9fcb0f0>, <Element a at 0x7f25e98d5730>, <Element a at 0x7f25f5cdf8c0>, <Element a at 0x7f25e9f61820>, <Element div at 0x7f25f5c63fa0>, <Element img at 0x7f25f5c63be0>, <Element img at 0x7f25e97cd870>, <Element img at 0x7f25e97cdf00>, <Element img at 0x7f25e97cddc0>, <Element p at 0x7f25e97cd0f0>, <Element b at 0x7f25e97cdb90>, <Element i at 0x7f25e99de320>]\n"
     ]
    }
   ],
   "source": [
    "\"\"\"FInd all nodes\"\"\"\n",
    "print(tree.xpath(\"//*\"))"
   ]
  },
  {
   "cell_type": "code",
   "execution_count": 18,
   "metadata": {},
   "outputs": [
    {
     "name": "stdout",
     "output_type": "stream",
     "text": [
      "[<Element p at 0x7f25e955fbe0>, <Element p at 0x7f25e94078c0>]\n",
      "\n",
      "[<Element i at 0x7f25e955fbe0>]\n",
      "\n",
      "['Tom and Jerry show is a full length comedy show']\n",
      "\n",
      "[<Element img at 0x7f25e955fbe0>, <Element img at 0x7f25e94078c0>, <Element img at 0x7f25e999fa00>, <Element img at 0x7f25e94ca8c0>, <Element img at 0x7f25e94cab40>]\n"
     ]
    }
   ],
   "source": [
    "\"\"\"Find all tags\"\"\"\n",
    "print(tree.xpath(\"//*/p\"))\n",
    "print()\n",
    "print(tree.xpath(\"//*/i\"))\n",
    "print()\n",
    "print(tree.xpath(\"//*/i/text()\"))\n",
    "print()\n",
    "print(tree.xpath(\"//*/img\"))"
   ]
  },
  {
   "cell_type": "code",
   "execution_count": 26,
   "metadata": {},
   "outputs": [
    {
     "name": "stdout",
     "output_type": "stream",
     "text": [
      "[<Element a at 0x7f25e9494d70>]\n",
      "\n",
      "['William Hanna']\n",
      "\n",
      "['Tom', 'Jerry']\n"
     ]
    }
   ],
   "source": [
    "\"\"\"Match according to attributes\"\"\"\n",
    "print(tree.xpath(\"//*/a[@id='link1']\"))\n",
    "print()\n",
    "print(tree.xpath(\"//*/a[@id='link1']/text()\"))\n",
    "print()\n",
    "print(tree.xpath(\"//*[@class='character']/text()\"))"
   ]
  },
  {
   "cell_type": "code",
   "execution_count": 28,
   "metadata": {},
   "outputs": [
    {
     "name": "stdout",
     "output_type": "stream",
     "text": [
      "['William Hanna', 'Joseph Barbera', 'Tom', 'Jerry']\n",
      "\n",
      "['Jerry']\n"
     ]
    }
   ],
   "source": [
    "\"\"\"Select particular element\"\"\"\n",
    "print(tree.xpath(\"//*/a/text()\"))\n",
    "print()\n",
    "print(tree.xpath(\"//*/a[4]/text()\"))"
   ]
  },
  {
   "cell_type": "code",
   "execution_count": 34,
   "metadata": {
    "scrolled": true
   },
   "outputs": [
    {
     "data": {
      "text/plain": [
       "['https://upload.wikimedia.org/wikipedia/commons/d/d2/William_Hanna_1977.jpg',\n",
       " 'https://upload.wikimedia.org/wikipedia/commons/6/67/JBarbera.jpg',\n",
       " 'https://upload.wikimedia.org/wikipedia/en/2/2f/Jerry_Mouse.png',\n",
       " 'https://upload.wikimedia.org/wikipedia/en/f/f6/Tom_Tom_and_Jerry.png']"
      ]
     },
     "execution_count": 34,
     "metadata": {},
     "output_type": "execute_result"
    }
   ],
   "source": [
    "\"\"\"Element value of particular attribute\"\"\"\n",
    "tree.xpath(\"//*/div/img/@src\")"
   ]
  },
  {
   "cell_type": "code",
   "execution_count": 35,
   "metadata": {},
   "outputs": [
    {
     "data": {
      "text/plain": [
       "['TomAndJerry.jpg',\n",
       " 'https://upload.wikimedia.org/wikipedia/commons/d/d2/William_Hanna_1977.jpg',\n",
       " 'https://upload.wikimedia.org/wikipedia/commons/6/67/JBarbera.jpg',\n",
       " 'https://upload.wikimedia.org/wikipedia/en/2/2f/Jerry_Mouse.png',\n",
       " 'https://upload.wikimedia.org/wikipedia/en/f/f6/Tom_Tom_and_Jerry.png']"
      ]
     },
     "execution_count": 35,
     "metadata": {},
     "output_type": "execute_result"
    }
   ],
   "source": [
    "tree.xpath(\"//*/img/@src\")"
   ]
  },
  {
   "cell_type": "code",
   "execution_count": 37,
   "metadata": {},
   "outputs": [
    {
     "data": {
      "text/plain": [
       "['TomAndJerry.jpg',\n",
       " 'https://upload.wikimedia.org/wikipedia/commons/d/d2/William_Hanna_1977.jpg',\n",
       " 'https://upload.wikimedia.org/wikipedia/commons/6/67/JBarbera.jpg',\n",
       " 'https://upload.wikimedia.org/wikipedia/en/2/2f/Jerry_Mouse.png',\n",
       " 'https://upload.wikimedia.org/wikipedia/en/f/f6/Tom_Tom_and_Jerry.png']"
      ]
     },
     "execution_count": 37,
     "metadata": {},
     "output_type": "execute_result"
    }
   ],
   "source": [
    "tree.xpath(\"//*/@src\")"
   ]
  },
  {
   "cell_type": "code",
   "execution_count": 38,
   "metadata": {},
   "outputs": [
    {
     "data": {
      "text/plain": [
       "['https://upload.wikimedia.org/wikipedia/commons/d/d2/William_Hanna_1977.jpg']"
      ]
     },
     "execution_count": 38,
     "metadata": {},
     "output_type": "execute_result"
    }
   ],
   "source": [
    "\"\"\"value for a particular element\"\"\"\n",
    "tree.xpath(\"//*/div/img[1]/@src\")"
   ]
  },
  {
   "cell_type": "code",
   "execution_count": null,
   "metadata": {},
   "outputs": [],
   "source": []
  }
 ],
 "metadata": {
  "kernelspec": {
   "display_name": "Python 3",
   "language": "python",
   "name": "python3"
  },
  "language_info": {
   "codemirror_mode": {
    "name": "ipython",
    "version": 3
   },
   "file_extension": ".py",
   "mimetype": "text/x-python",
   "name": "python",
   "nbconvert_exporter": "python",
   "pygments_lexer": "ipython3",
   "version": "3.7.4"
  }
 },
 "nbformat": 4,
 "nbformat_minor": 2
}
