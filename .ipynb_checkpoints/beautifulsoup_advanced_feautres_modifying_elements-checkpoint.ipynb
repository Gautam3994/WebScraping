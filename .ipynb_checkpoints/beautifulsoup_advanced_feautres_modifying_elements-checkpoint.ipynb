{
 "cells": [
  {
   "cell_type": "code",
   "execution_count": null,
   "metadata": {},
   "outputs": [],
   "source": [
    "from bs4 import BeautifulSoup, NavigableString, Comment\n",
    "\n",
    "with open(\"files/SimpleApple.html\") as html:\n",
    "    soup = BeautifulSoup(html, 'lxml')\n",
    "print(soup.prettify())"
   ]
  },
  {
   "cell_type": "code",
   "execution_count": null,
   "metadata": {},
   "outputs": [],
   "source": [
    "\"\"\"Modifying Tags\"\"\"\n",
    "title_tag = soup.find('title') # after changing you will no longer able to find using title\n",
    "print(title_tag)\n",
    "print(title_tag.name)\n",
    "title_tag.name = \"special\"\n",
    "# print(title_tag.name)"
   ]
  },
  {
   "cell_type": "code",
   "execution_count": null,
   "metadata": {},
   "outputs": [],
   "source": [
    "print(soup.prettify())"
   ]
  },
  {
   "cell_type": "code",
   "execution_count": null,
   "metadata": {},
   "outputs": [],
   "source": [
    "p_tag = soup.find(class_=\"apple\")\n",
    "p_tag"
   ]
  },
  {
   "cell_type": "code",
   "execution_count": null,
   "metadata": {},
   "outputs": [],
   "source": [
    "print(p_tag['class'])\n",
    "p_tag['class'] = \"newton\"\n",
    "print(p_tag['class'])"
   ]
  },
  {
   "cell_type": "code",
   "execution_count": null,
   "metadata": {},
   "outputs": [],
   "source": [
    "print(soup.prettify())"
   ]
  },
  {
   "cell_type": "code",
   "execution_count": null,
   "metadata": {},
   "outputs": [],
   "source": [
    "\"\"\"deleing attributes\"\"\"\n",
    "p_tag = soup.find(class_=\"steve\")\n",
    "print(p_tag)\n",
    "del p_tag[\"class\"]"
   ]
  },
  {
   "cell_type": "code",
   "execution_count": null,
   "metadata": {},
   "outputs": [],
   "source": [
    "p_tag"
   ]
  },
  {
   "cell_type": "code",
   "execution_count": null,
   "metadata": {},
   "outputs": [],
   "source": [
    "\"\"\"Modifying strings\"\"\"\n",
    "p_tag.string"
   ]
  },
  {
   "cell_type": "code",
   "execution_count": null,
   "metadata": {},
   "outputs": [],
   "source": [
    "p_tag.string = \"Steve Jobs Apple\"\n",
    "print(p_tag)"
   ]
  },
  {
   "cell_type": "code",
   "execution_count": null,
   "metadata": {},
   "outputs": [],
   "source": [
    "\"\"\"appending and extending\"\"\"\n",
    "p_tag = soup.find(id = \"3apples\")\n",
    "print(p_tag)\n",
    "# p_tag.append(\"Quite Interesting.\")\n",
    "print(p_tag)\n",
    "# p_tag.extend([\" I \", \"have \", \"no \", \"more \",\"to \", \"say.\"])\n",
    "print(p_tag)"
   ]
  },
  {
   "cell_type": "code",
   "execution_count": null,
   "metadata": {},
   "outputs": [],
   "source": [
    "\"\"\"Navigable string\"\"\"\n",
    "h2_tag = soup.h2\n",
    "print(h2_tag)\n",
    "new_string = NavigableString(\" is here\")\n",
    "h2_tag.append(new_string)"
   ]
  },
  {
   "cell_type": "code",
   "execution_count": null,
   "metadata": {},
   "outputs": [],
   "source": [
    "h2_tag"
   ]
  },
  {
   "cell_type": "code",
   "execution_count": null,
   "metadata": {},
   "outputs": [],
   "source": [
    "\"\"\"Comment\"\"\"\n",
    "body_tag = soup.body\n",
    "print(body_tag)\n",
    "new_comment = Comment(\"interesting\")\n",
    "body_tag.append(new_comment)"
   ]
  },
  {
   "cell_type": "code",
   "execution_count": null,
   "metadata": {},
   "outputs": [],
   "source": [
    "body_tag"
   ]
  },
  {
   "cell_type": "code",
   "execution_count": 92,
   "metadata": {},
   "outputs": [
    {
     "name": "stdout",
     "output_type": "stream",
     "text": [
      "<html>\n",
      " <head>\n",
      "  <title>\n",
      "   Three Apples\n",
      "  </title>\n",
      " </head>\n",
      " <body>\n",
      "  <p class=\"title\">\n",
      "   <b>\n",
      "    The three Apples that changed the world\n",
      "   </b>\n",
      "  </p>\n",
      "  <p class=\"story\">\n",
      "   Apple has been the divine fruit of creation, the inspiring fruit of the century and the most valuable logo and the 3 apples are\n",
      "   <a class=\"apple\" href=\"https://www.alimentarium.org/en/knowledge/eve-and-forbidden-fruit\" id=\"link1\">\n",
      "    Eve's apple\n",
      "   </a>\n",
      "   ,\n",
      "   <a class=\"apple\" href=\"https://en.wikipedia.org/wiki/Newton%27s_Apple\" id=\"link2\">\n",
      "    Newton's apple\n",
      "   </a>\n",
      "   and\n",
      "   <a class=\"apple\" href=\"https://en.wikipedia.org/wiki/Apple_Store\" id=\"link3\">\n",
      "    Steve Jobs' Apple\n",
      "   </a>\n",
      "   .\n",
      "   <a class=\"3_Apples\" href=\"https://www.speakingtree.in/blog/three-apples-that-changed-the-world\" id=\"link4\">\n",
      "    Here\n",
      "   </a>\n",
      "   is the complete story\n",
      "  </p>\n",
      "  <img alt=\"Image of apples\" src=\"Apples.jpg\"/>\n",
      "  <p>\n",
      "   <i class=\"apple\">\n",
      "    We may have rarely observed these many facets of this remarkably insignificant fruit\n",
      "   </i>\n",
      "  </p>\n",
      " </body>\n",
      "</html>\n",
      "\n"
     ]
    }
   ],
   "source": [
    "with open(\"files/ThreeApplesStory.html\") as html:\n",
    "    soup = BeautifulSoup(html, 'lxml')\n",
    "print(soup.prettify())"
   ]
  },
  {
   "cell_type": "code",
   "execution_count": 94,
   "metadata": {
    "collapsed": true
   },
   "outputs": [
    {
     "name": "stdout",
     "output_type": "stream",
     "text": [
      "<html>\n",
      " <head>\n",
      "  <title>\n",
      "   Three Apples\n",
      "  </title>\n",
      " </head>\n",
      " <body>\n",
      "  <p class=\"title\">\n",
      "   <b>\n",
      "    The three Apples that changed the world\n",
      "   </b>\n",
      "  </p>\n",
      "  <p class=\"story\">\n",
      "   Apple has been the divine fruit of creation, the inspiring fruit of the century and the most valuable logo and the 3 apples are\n",
      "   <a class=\"apple\" href=\"https://www.alimentarium.org/en/knowledge/eve-and-forbidden-fruit\" id=\"link1\">\n",
      "    Eve's apple\n",
      "   </a>\n",
      "   ,\n",
      "   <a class=\"apple\" href=\"https://en.wikipedia.org/wiki/Newton%27s_Apple\" id=\"link2\">\n",
      "    Newton's apple\n",
      "   </a>\n",
      "   and\n",
      "   <a class=\"apple\" href=\"https://en.wikipedia.org/wiki/Apple_Store\" id=\"link3\">\n",
      "    Steve Jobs' Apple\n",
      "   </a>\n",
      "   .\n",
      "   <a class=\"3_Apples\" href=\"https://www.speakingtree.in/blog/three-apples-that-changed-the-world\" id=\"link4\">\n",
      "    Here\n",
      "   </a>\n",
      "   is the complete story\n",
      "  </p>\n",
      "  <img alt=\"Image of apples\" src=\"Apples.jpg\"/>\n",
      "  <p>\n",
      "   <i class=\"apple\">\n",
      "    We may have rarely observed these many facets of this remarkably insignificant fruit\n",
      "   </i>\n",
      "  </p>\n",
      "  <a href=\"https://en.wikipedia.org/wiki/Apple_Store\">\n",
      "   Apple Store\n",
      "  </a>\n",
      " </body>\n",
      "</html>\n",
      "\n"
     ]
    }
   ],
   "source": [
    "\"\"\"Adding new elements\"\"\"\n",
    "new_element = soup.new_tag(\"a\", href=\"https://en.wikipedia.org/wiki/Apple_Store\")\n",
    "new_element.string = \"Apple Store\"\n",
    "body_tag = soup.body\n",
    "body_tag.append(new_element)\n",
    "print(soup.prettify())"
   ]
  },
  {
   "cell_type": "code",
   "execution_count": null,
   "metadata": {},
   "outputs": [],
   "source": [
    "# with open(\"files/ThreeApples_Updated.html\", \"w\") as html:\n",
    "#     html.write(soup.prettify())\n"
   ]
  },
  {
   "cell_type": "code",
   "execution_count": 100,
   "metadata": {},
   "outputs": [
    {
     "data": {
      "text/plain": [
       "\"Eve's apple\""
      ]
     },
     "execution_count": 100,
     "metadata": {},
     "output_type": "execute_result"
    }
   ],
   "source": [
    "# print(soup.prettify())\n",
    "p_tag = soup.select(\"p:nth-of-type(2) a\")\n",
    "p_tag[0]\n",
    "p_tag[0].string"
   ]
  },
  {
   "cell_type": "code",
   "execution_count": 103,
   "metadata": {},
   "outputs": [
    {
     "name": "stdout",
     "output_type": "stream",
     "text": [
      "Eve's apple is the first one.\n"
     ]
    }
   ],
   "source": [
    "\"extend - adds the values as a list of strings so we cannot use string method with it\"\n",
    "# p_tag[0].extend(\" is the first one.\")\n",
    "print(p_tag[0].text)"
   ]
  },
  {
   "cell_type": "code",
   "execution_count": null,
   "metadata": {},
   "outputs": [],
   "source": []
  },
  {
   "cell_type": "code",
   "execution_count": null,
   "metadata": {},
   "outputs": [],
   "source": [
    "p_tag.string"
   ]
  },
  {
   "cell_type": "code",
   "execution_count": null,
   "metadata": {},
   "outputs": [],
   "source": [
    "print(soup.prettify())"
   ]
  },
  {
   "cell_type": "code",
   "execution_count": null,
   "metadata": {},
   "outputs": [],
   "source": []
  }
 ],
 "metadata": {
  "kernelspec": {
   "display_name": "Python 3",
   "language": "python",
   "name": "python3"
  },
  "language_info": {
   "codemirror_mode": {
    "name": "ipython",
    "version": 3
   },
   "file_extension": ".py",
   "mimetype": "text/x-python",
   "name": "python",
   "nbconvert_exporter": "python",
   "pygments_lexer": "ipython3",
   "version": "3.7.4"
  }
 },
 "nbformat": 4,
 "nbformat_minor": 2
}
