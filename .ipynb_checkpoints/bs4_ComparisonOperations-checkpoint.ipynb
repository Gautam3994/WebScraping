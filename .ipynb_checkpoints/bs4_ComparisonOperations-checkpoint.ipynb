{
 "cells": [
  {
   "cell_type": "code",
   "execution_count": 1,
   "metadata": {},
   "outputs": [],
   "source": [
    "import copy\n",
    "\n",
    "from bs4 import BeautifulSoup\n",
    "from bs4.dammit import EntitySubstitution"
   ]
  },
  {
   "cell_type": "code",
   "execution_count": 2,
   "metadata": {},
   "outputs": [
    {
     "name": "stdout",
     "output_type": "stream",
     "text": [
      "<a>\n",
      " BeautifulSoup is a\n",
      " <i>\n",
      "  Python\n",
      " </i>\n",
      " library and works with\n",
      " <i>\n",
      "  Python\n",
      " </i>\n",
      " 3\n",
      "</a>\n"
     ]
    }
   ],
   "source": [
    "html_code = \"\"\"<a>BeautifulSoup is a \n",
    "<i>Python</i> \n",
    "library and works with \n",
    "<i>Python</i> 3</a>\"\"\"\n",
    "\n",
    "soup = BeautifulSoup(html_code, \"html.parser\")\n",
    "\n",
    "print(soup.prettify())"
   ]
  },
  {
   "cell_type": "markdown",
   "metadata": {},
   "source": [
    "### Comparing objects for equality\n",
    "#### BeautifulSoup will say the two tags or NavigableString which are represent same HTML/XML markup are same"
   ]
  },
  {
   "cell_type": "code",
   "execution_count": 3,
   "metadata": {},
   "outputs": [
    {
     "data": {
      "text/plain": [
       "<a>BeautifulSoup is a \n",
       "<i>Python</i> \n",
       "library and works with \n",
       "<i>Python</i> 3</a>"
      ]
     },
     "execution_count": 3,
     "metadata": {},
     "output_type": "execute_result"
    }
   ],
   "source": [
    "a_tag = soup.a\n",
    "\n",
    "a_tag"
   ]
  },
  {
   "cell_type": "code",
   "execution_count": 4,
   "metadata": {},
   "outputs": [],
   "source": [
    "first_i, second_i = soup.find_all(\"i\")"
   ]
  },
  {
   "cell_type": "code",
   "execution_count": 5,
   "metadata": {},
   "outputs": [
    {
     "data": {
      "text/plain": [
       "<i>Python</i>"
      ]
     },
     "execution_count": 5,
     "metadata": {},
     "output_type": "execute_result"
    }
   ],
   "source": [
    "first_i"
   ]
  },
  {
   "cell_type": "code",
   "execution_count": 6,
   "metadata": {},
   "outputs": [
    {
     "data": {
      "text/plain": [
       "<i>Python</i>"
      ]
     },
     "execution_count": 6,
     "metadata": {},
     "output_type": "execute_result"
    }
   ],
   "source": [
    "second_i"
   ]
  },
  {
   "cell_type": "code",
   "execution_count": 7,
   "metadata": {},
   "outputs": [
    {
     "data": {
      "text/plain": [
       "True"
      ]
     },
     "execution_count": 7,
     "metadata": {},
     "output_type": "execute_result"
    }
   ],
   "source": [
    "first_i == second_i"
   ]
  },
  {
   "cell_type": "code",
   "execution_count": 8,
   "metadata": {},
   "outputs": [
    {
     "data": {
      "text/plain": [
       "('BeautifulSoup is a \\n', ' \\nlibrary and works with \\n')"
      ]
     },
     "execution_count": 8,
     "metadata": {},
     "output_type": "execute_result"
    }
   ],
   "source": [
    "first_i.previous_element, second_i.previous_element"
   ]
  },
  {
   "cell_type": "code",
   "execution_count": 9,
   "metadata": {},
   "outputs": [
    {
     "data": {
      "text/plain": [
       "False"
      ]
     },
     "execution_count": 9,
     "metadata": {},
     "output_type": "execute_result"
    }
   ],
   "source": [
    "first_i is second_i"
   ]
  },
  {
   "cell_type": "code",
   "execution_count": 10,
   "metadata": {},
   "outputs": [
    {
     "name": "stdout",
     "output_type": "stream",
     "text": [
      "<a>\n",
      " BeautifulSoup is a\n",
      " <i class=\"first\">\n",
      "  Python\n",
      " </i>\n",
      " library and works with\n",
      " <i class=\"second\">\n",
      "  Python\n",
      " </i>\n",
      " 3\n",
      "</a>\n"
     ]
    }
   ],
   "source": [
    "html_code = \"\"\"<a>BeautifulSoup is a \n",
    "<i class=\"first\">Python</i> \n",
    "library and works with \n",
    "<i class=\"second\">Python</i> 3</a>\"\"\"\n",
    "\n",
    "soup = BeautifulSoup(html_code, \"html.parser\")\n",
    "\n",
    "print(soup.prettify())"
   ]
  },
  {
   "cell_type": "code",
   "execution_count": 11,
   "metadata": {},
   "outputs": [
    {
     "data": {
      "text/plain": [
       "(<i class=\"first\">Python</i>, <i class=\"second\">Python</i>)"
      ]
     },
     "execution_count": 11,
     "metadata": {},
     "output_type": "execute_result"
    }
   ],
   "source": [
    "first_i, second_i = soup.find_all(\"i\")\n",
    "\n",
    "first_i, second_i"
   ]
  },
  {
   "cell_type": "code",
   "execution_count": 12,
   "metadata": {},
   "outputs": [
    {
     "data": {
      "text/plain": [
       "False"
      ]
     },
     "execution_count": 12,
     "metadata": {},
     "output_type": "execute_result"
    }
   ],
   "source": [
    "first_i == second_i"
   ]
  },
  {
   "cell_type": "markdown",
   "metadata": {},
   "source": [
    "### Copying BeautifulSoup objects\n",
    "#### using copy.copy( ) we can create copy for any Tag or NavigableString"
   ]
  },
  {
   "cell_type": "code",
   "execution_count": 13,
   "metadata": {},
   "outputs": [
    {
     "data": {
      "text/plain": [
       "<a>BeautifulSoup is a \n",
       "<i class=\"first\">Python</i> \n",
       "library and works with \n",
       "<i class=\"second\">Python</i> 3</a>"
      ]
     },
     "execution_count": 13,
     "metadata": {},
     "output_type": "execute_result"
    }
   ],
   "source": [
    "soup.a"
   ]
  },
  {
   "cell_type": "code",
   "execution_count": 14,
   "metadata": {},
   "outputs": [
    {
     "data": {
      "text/plain": [
       "<a>BeautifulSoup is a \n",
       "<i class=\"first\">Python</i> \n",
       "library and works with \n",
       "<i class=\"second\">Python</i> 3</a>"
      ]
     },
     "execution_count": 14,
     "metadata": {},
     "output_type": "execute_result"
    }
   ],
   "source": [
    "a_copy = copy.copy(soup.a)\n",
    "\n",
    "a_copy"
   ]
  },
  {
   "cell_type": "code",
   "execution_count": 15,
   "metadata": {},
   "outputs": [
    {
     "data": {
      "text/plain": [
       "True"
      ]
     },
     "execution_count": 15,
     "metadata": {},
     "output_type": "execute_result"
    }
   ],
   "source": [
    "soup.a == a_copy"
   ]
  },
  {
   "cell_type": "code",
   "execution_count": 16,
   "metadata": {},
   "outputs": [
    {
     "data": {
      "text/plain": [
       "False"
      ]
     },
     "execution_count": 16,
     "metadata": {},
     "output_type": "execute_result"
    }
   ],
   "source": [
    "a_copy is soup.a"
   ]
  },
  {
   "cell_type": "markdown",
   "metadata": {},
   "source": [
    "#### This will have a parent because this is a part of a html document"
   ]
  },
  {
   "cell_type": "code",
   "execution_count": 17,
   "metadata": {},
   "outputs": [
    {
     "name": "stdout",
     "output_type": "stream",
     "text": [
      "[document]\n"
     ]
    }
   ],
   "source": [
    "print(soup.a.parent.name)"
   ]
  },
  {
   "cell_type": "markdown",
   "metadata": {},
   "source": [
    "#### copy will never have a parent because this is completely detached from the document"
   ]
  },
  {
   "cell_type": "code",
   "execution_count": 18,
   "metadata": {},
   "outputs": [
    {
     "name": "stdout",
     "output_type": "stream",
     "text": [
      "None\n"
     ]
    }
   ],
   "source": [
    "print(a_copy.parent)"
   ]
  },
  {
   "cell_type": "markdown",
   "metadata": {},
   "source": [
    "### Pretty printing\n",
    "#### BeautifulSoup is giving us prettify( ) method to print the html code into well formatted way like it will give separate line for each tag and it will show clearly how tags are nestedly arranged in document"
   ]
  },
  {
   "cell_type": "code",
   "execution_count": 19,
   "metadata": {},
   "outputs": [],
   "source": [
    "html_code = \"\"\"<!DOCTYPE html>\n",
    "<html><head>\n",
    "<title>The three Apples that changed the world</title></head>\n",
    "<body><h2>All you want to know</h2><p>\n",
    "<p>Eve's Apple</p><p class=\"apple\">Newton's Apple</p>\n",
    "<p class=\"steve\">Steve Jobs' Apple</p></p>\n",
    "<p id=\"3apples\">Not really an insignificant fruit<i>is it</i>!</p>\n",
    "<!-- Interesting isn't it? -->\n",
    "</body>\n",
    "</html>\n",
    "\"\"\""
   ]
  },
  {
   "cell_type": "code",
   "execution_count": 20,
   "metadata": {},
   "outputs": [
    {
     "data": {
      "text/plain": [
       "<!DOCTYPE html>\n",
       "\n",
       "<html><head>\n",
       "<title>The three Apples that changed the world</title></head>\n",
       "<body><h2>All you want to know</h2><p>\n",
       "<p>Eve's Apple</p><p class=\"apple\">Newton's Apple</p>\n",
       "<p class=\"steve\">Steve Jobs' Apple</p></p>\n",
       "<p id=\"3apples\">Not really an insignificant fruit<i>is it</i>!</p>\n",
       "<!-- Interesting isn't it? -->\n",
       "</body>\n",
       "</html>"
      ]
     },
     "execution_count": 20,
     "metadata": {},
     "output_type": "execute_result"
    }
   ],
   "source": [
    "soup = BeautifulSoup(html_code, \"html.parser\")\n",
    "\n",
    "soup"
   ]
  },
  {
   "cell_type": "code",
   "execution_count": 21,
   "metadata": {},
   "outputs": [
    {
     "data": {
      "text/plain": [
       "'<!DOCTYPE html>\\n<html>\\n <head>\\n  <title>\\n   The three Apples that changed the world\\n  </title>\\n </head>\\n <body>\\n  <h2>\\n   All you want to know\\n  </h2>\\n  <p>\\n   <p>\\n    Eve\\'s Apple\\n   </p>\\n   <p class=\"apple\">\\n    Newton\\'s Apple\\n   </p>\\n   <p class=\"steve\">\\n    Steve Jobs\\' Apple\\n   </p>\\n  </p>\\n  <p id=\"3apples\">\\n   Not really an insignificant fruit\\n   <i>\\n    is it\\n   </i>\\n   !\\n  </p>\\n  <!-- Interesting isn\\'t it? -->\\n </body>\\n</html>\\n'"
      ]
     },
     "execution_count": 21,
     "metadata": {},
     "output_type": "execute_result"
    }
   ],
   "source": [
    "soup.prettify()"
   ]
  },
  {
   "cell_type": "code",
   "execution_count": 22,
   "metadata": {},
   "outputs": [
    {
     "name": "stdout",
     "output_type": "stream",
     "text": [
      "<!DOCTYPE html>\n",
      "<html>\n",
      " <head>\n",
      "  <title>\n",
      "   The three Apples that changed the world\n",
      "  </title>\n",
      " </head>\n",
      " <body>\n",
      "  <h2>\n",
      "   All you want to know\n",
      "  </h2>\n",
      "  <p>\n",
      "   <p>\n",
      "    Eve's Apple\n",
      "   </p>\n",
      "   <p class=\"apple\">\n",
      "    Newton's Apple\n",
      "   </p>\n",
      "   <p class=\"steve\">\n",
      "    Steve Jobs' Apple\n",
      "   </p>\n",
      "  </p>\n",
      "  <p id=\"3apples\">\n",
      "   Not really an insignificant fruit\n",
      "   <i>\n",
      "    is it\n",
      "   </i>\n",
      "   !\n",
      "  </p>\n",
      "  <!-- Interesting isn't it? -->\n",
      " </body>\n",
      "</html>\n",
      "\n"
     ]
    }
   ],
   "source": [
    "print(soup.prettify())"
   ]
  },
  {
   "cell_type": "markdown",
   "metadata": {},
   "source": [
    "#### we can call this prettify( ) method for tags as well"
   ]
  },
  {
   "cell_type": "code",
   "execution_count": 23,
   "metadata": {},
   "outputs": [
    {
     "name": "stdout",
     "output_type": "stream",
     "text": [
      "<body>\n",
      " <h2>\n",
      "  All you want to know\n",
      " </h2>\n",
      " <p>\n",
      "  <p>\n",
      "   Eve's Apple\n",
      "  </p>\n",
      "  <p class=\"apple\">\n",
      "   Newton's Apple\n",
      "  </p>\n",
      "  <p class=\"steve\">\n",
      "   Steve Jobs' Apple\n",
      "  </p>\n",
      " </p>\n",
      " <p id=\"3apples\">\n",
      "  Not really an insignificant fruit\n",
      "  <i>\n",
      "   is it\n",
      "  </i>\n",
      "  !\n",
      " </p>\n",
      " <!-- Interesting isn't it? -->\n",
      "</body>\n",
      "\n"
     ]
    }
   ],
   "source": [
    "print(soup.body.prettify())"
   ]
  },
  {
   "cell_type": "markdown",
   "metadata": {},
   "source": [
    "### Non-pretty printing\n",
    "#### If we dont want any kind of special formatting then we can directly with unicode( ) and str( ) "
   ]
  },
  {
   "cell_type": "code",
   "execution_count": 24,
   "metadata": {},
   "outputs": [
    {
     "data": {
      "text/plain": [
       "<!DOCTYPE html>\n",
       "\n",
       "<html><head>\n",
       "<title>The three Apples that changed the world</title></head>\n",
       "<body><h2>All you want to know</h2><p>\n",
       "<p>Eve's Apple</p><p class=\"apple\">Newton's Apple</p>\n",
       "<p class=\"steve\">Steve Jobs' Apple</p></p>\n",
       "<p id=\"3apples\">Not really an insignificant fruit<i>is it</i>!</p>\n",
       "<!-- Interesting isn't it? -->\n",
       "</body>\n",
       "</html>"
      ]
     },
     "execution_count": 24,
     "metadata": {},
     "output_type": "execute_result"
    }
   ],
   "source": [
    "soup"
   ]
  },
  {
   "cell_type": "code",
   "execution_count": 25,
   "metadata": {},
   "outputs": [
    {
     "data": {
      "text/plain": [
       "'<!DOCTYPE html>\\n\\n<html><head>\\n<title>The three Apples that changed the world</title></head>\\n<body><h2>All you want to know</h2><p>\\n<p>Eve\\'s Apple</p><p class=\"apple\">Newton\\'s Apple</p>\\n<p class=\"steve\">Steve Jobs\\' Apple</p></p>\\n<p id=\"3apples\">Not really an insignificant fruit<i>is it</i>!</p>\\n<!-- Interesting isn\\'t it? -->\\n</body>\\n</html>\\n'"
      ]
     },
     "execution_count": 25,
     "metadata": {},
     "output_type": "execute_result"
    }
   ],
   "source": [
    "str(soup)"
   ]
  },
  {
   "cell_type": "markdown",
   "metadata": {},
   "source": [
    "### Output formatters"
   ]
  },
  {
   "cell_type": "code",
   "execution_count": 26,
   "metadata": {},
   "outputs": [],
   "source": [
    "html_code = \"\"\"<b>I ate both; pizza & burger</b>\n",
    "<a href=\"http://example.com/?foo=val1&bar=val2\">Some link</a>\"\"\"\n",
    "\n",
    "soup = BeautifulSoup(html_code, \"html.parser\")"
   ]
  },
  {
   "cell_type": "markdown",
   "metadata": {},
   "source": [
    "#### By default tha characters which are escaped upon output are bare ampersands and angle brackets, ampersand is converted inti \"&amp:\", we can observe here"
   ]
  },
  {
   "cell_type": "code",
   "execution_count": 27,
   "metadata": {},
   "outputs": [
    {
     "data": {
      "text/plain": [
       "<b>I ate both; pizza &amp; burger</b>"
      ]
     },
     "execution_count": 27,
     "metadata": {},
     "output_type": "execute_result"
    }
   ],
   "source": [
    "soup.b"
   ]
  },
  {
   "cell_type": "markdown",
   "metadata": {},
   "source": [
    "#### Here also we can observe in link also it is changed from \"&\" to \"amp;\""
   ]
  },
  {
   "cell_type": "code",
   "execution_count": 28,
   "metadata": {},
   "outputs": [
    {
     "data": {
      "text/plain": [
       "<a href=\"http://example.com/?foo=val1&amp;bar=val2\">Some link</a>"
      ]
     },
     "execution_count": 28,
     "metadata": {},
     "output_type": "execute_result"
    }
   ],
   "source": [
    "soup.a"
   ]
  },
  {
   "cell_type": "markdown",
   "metadata": {},
   "source": [
    "https://www.crummy.com/software/BeautifulSoup/bs4/doc/#output-formatters"
   ]
  },
  {
   "cell_type": "code",
   "execution_count": 29,
   "metadata": {},
   "outputs": [
    {
     "name": "stdout",
     "output_type": "stream",
     "text": [
      "<html>\n",
      " <body>\n",
      "  <p>\n",
      "   Il a dit <<une école>>\n",
      "  </p>\n",
      " </body>\n",
      "</html>\n"
     ]
    }
   ],
   "source": [
    "french = \"<p>Il a dit &lt;&lt;une &eacute;cole&gt;&gt;</p>\"\n",
    "\n",
    "soup = BeautifulSoup(french)\n",
    "\n",
    "\"\"\"Since it is a different language we dont use formatting\"\"\"\n",
    "\n",
    "print(soup.prettify(formatter=None))"
   ]
  },
  {
   "cell_type": "code",
   "execution_count": 30,
   "metadata": {},
   "outputs": [
    {
     "name": "stdout",
     "output_type": "stream",
     "text": [
      "<html>\n",
      " <body>\n",
      "  <p>\n",
      "   Il a dit &lt;&lt;une école&gt;&gt;\n",
      "  </p>\n",
      " </body>\n",
      "</html>\n"
     ]
    }
   ],
   "source": [
    "print(soup.prettify(formatter=\"minimal\"))"
   ]
  },
  {
   "cell_type": "code",
   "execution_count": 31,
   "metadata": {},
   "outputs": [
    {
     "name": "stdout",
     "output_type": "stream",
     "text": [
      "<html>\n",
      " <body>\n",
      "  <p>\n",
      "   Il a dit &lt;&lt;une &eacute;cole&gt;&gt;\n",
      "  </p>\n",
      " </body>\n",
      "</html>\n"
     ]
    }
   ],
   "source": [
    "print(soup.prettify(formatter = 'html'))"
   ]
  },
  {
   "cell_type": "code",
   "execution_count": 32,
   "metadata": {},
   "outputs": [
    {
     "name": "stdout",
     "output_type": "stream",
     "text": [
      "<html>\n",
      " <body>\n",
      "  <p>\n",
      "   Il a dit &lt;&lt;une &eacute;cole&gt;&gt;\n",
      "  </p>\n",
      " </body>\n",
      "</html>\n"
     ]
    }
   ],
   "source": [
    "print(soup.prettify(formatter = 'html5'))"
   ]
  },
  {
   "cell_type": "code",
   "execution_count": 33,
   "metadata": {},
   "outputs": [],
   "source": [
    "soup = BeautifulSoup(\"<br>\")"
   ]
  },
  {
   "cell_type": "code",
   "execution_count": 34,
   "metadata": {},
   "outputs": [
    {
     "name": "stdout",
     "output_type": "stream",
     "text": [
      "<html>\n",
      " <body>\n",
      "  <br/>\n",
      " </body>\n",
      "</html>\n"
     ]
    }
   ],
   "source": [
    "print(soup.prettify(formatter=\"html\"))"
   ]
  },
  {
   "cell_type": "code",
   "execution_count": 35,
   "metadata": {},
   "outputs": [
    {
     "name": "stdout",
     "output_type": "stream",
     "text": [
      "<html>\n",
      " <body>\n",
      "  <br>\n",
      " </body>\n",
      "</html>\n"
     ]
    }
   ],
   "source": [
    "print(soup.prettify(formatter=\"html5\"))"
   ]
  },
  {
   "cell_type": "markdown",
   "metadata": {},
   "source": [
    "#### If we want more control on our output data we can make use of custom_formatters class also"
   ]
  },
  {
   "cell_type": "code",
   "execution_count": 36,
   "metadata": {},
   "outputs": [],
   "source": [
    "def convert_uppercase(str):\n",
    "    return EntitySubstitution.substitute_html(str.upper())"
   ]
  },
  {
   "cell_type": "markdown",
   "metadata": {},
   "source": [
    "#### Here we are converting the string data into upper case"
   ]
  },
  {
   "cell_type": "code",
   "execution_count": 37,
   "metadata": {},
   "outputs": [
    {
     "name": "stdout",
     "output_type": "stream",
     "text": [
      "<html>\n",
      " <body>\n",
      "  <p>\n",
      "   INITIALLY LOWERCASE\n",
      "  </p>\n",
      " </body>\n",
      "</html>\n"
     ]
    }
   ],
   "source": [
    "soup = BeautifulSoup(\"<p>Initially lowercase</p>\")\n",
    "\n",
    "print(soup.prettify(formatter=convert_uppercase))"
   ]
  },
  {
   "cell_type": "code",
   "execution_count": null,
   "metadata": {},
   "outputs": [],
   "source": []
  }
 ],
 "metadata": {
  "kernelspec": {
   "display_name": "Python 3",
   "language": "python",
   "name": "python3"
  },
  "language_info": {
   "codemirror_mode": {
    "name": "ipython",
    "version": 3
   },
   "file_extension": ".py",
   "mimetype": "text/x-python",
   "name": "python",
   "nbconvert_exporter": "python",
   "pygments_lexer": "ipython3",
   "version": "3.7.4"
  }
 },
 "nbformat": 4,
 "nbformat_minor": 2
}
