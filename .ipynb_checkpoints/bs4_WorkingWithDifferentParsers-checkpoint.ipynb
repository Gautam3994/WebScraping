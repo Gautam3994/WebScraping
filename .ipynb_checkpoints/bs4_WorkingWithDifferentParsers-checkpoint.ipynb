{
 "cells": [
  {
   "cell_type": "markdown",
   "metadata": {},
   "source": [
    "## Importing BeautifulSoup"
   ]
  },
  {
   "cell_type": "code",
   "execution_count": 1,
   "metadata": {},
   "outputs": [],
   "source": [
    "from bs4 import BeautifulSoup"
   ]
  },
  {
   "cell_type": "code",
   "execution_count": null,
   "metadata": {},
   "outputs": [],
   "source": [
    "!pip install lxml"
   ]
  },
  {
   "cell_type": "code",
   "execution_count": null,
   "metadata": {},
   "outputs": [],
   "source": [
    "!pip install html5lib"
   ]
  },
  {
   "cell_type": "markdown",
   "metadata": {},
   "source": [
    "## Specifying parser to use\n",
    "https://www.crummy.com/software/BeautifulSoup/bs4/doc/#specifying-the-parser-to-use"
   ]
  },
  {
   "cell_type": "code",
   "execution_count": 24,
   "metadata": {},
   "outputs": [],
   "source": [
    "html_code = \"<b>I want <i>spicy food<br></p></b>\""
   ]
  },
  {
   "cell_type": "markdown",
   "metadata": {},
   "source": [
    "#### For different parsers BeautifulSoup will give same interface, but each parser will work differently and we can get different parse trees from same html document. From below we can observe that difference."
   ]
  },
  {
   "cell_type": "code",
   "execution_count": 25,
   "metadata": {},
   "outputs": [
    {
     "name": "stdout",
     "output_type": "stream",
     "text": [
      "<html>\n",
      " <body>\n",
      "  <b>\n",
      "   I want\n",
      "   <i>\n",
      "    spicy food\n",
      "    <br/>\n",
      "   </i>\n",
      "  </b>\n",
      " </body>\n",
      "</html>\n"
     ]
    }
   ],
   "source": [
    "\"fast but does nt close tags  on its own very well \"\n",
    "soup = BeautifulSoup(html_code)\n",
    "\n",
    "print(soup.prettify())"
   ]
  },
  {
   "cell_type": "code",
   "execution_count": 26,
   "metadata": {},
   "outputs": [
    {
     "name": "stdout",
     "output_type": "stream",
     "text": [
      "<html>\n",
      " <body>\n",
      "  <b>\n",
      "   I want\n",
      "   <i>\n",
      "    spicy food\n",
      "    <br/>\n",
      "   </i>\n",
      "  </b>\n",
      " </body>\n",
      "</html>\n"
     ]
    }
   ],
   "source": [
    "\"medium\"\n",
    "soup = BeautifulSoup(html_code, 'lxml')\n",
    "\n",
    "print(soup.prettify())"
   ]
  },
  {
   "cell_type": "code",
   "execution_count": 27,
   "metadata": {},
   "outputs": [
    {
     "name": "stdout",
     "output_type": "stream",
     "text": [
      "<b>\n",
      " I want\n",
      " <i>\n",
      "  spicy food\n",
      "  <br/>\n",
      " </i>\n",
      "</b>\n"
     ]
    }
   ],
   "source": [
    "soup = BeautifulSoup(html_code, \"html.parser\")\n",
    "\n",
    "print(soup.prettify())"
   ]
  },
  {
   "cell_type": "code",
   "execution_count": 28,
   "metadata": {},
   "outputs": [
    {
     "name": "stdout",
     "output_type": "stream",
     "text": [
      "<html>\n",
      " <head>\n",
      " </head>\n",
      " <body>\n",
      "  <b>\n",
      "   I want\n",
      "   <i>\n",
      "    spicy food\n",
      "    <br/>\n",
      "    <p>\n",
      "    </p>\n",
      "   </i>\n",
      "  </b>\n",
      " </body>\n",
      "</html>\n"
     ]
    }
   ],
   "source": [
    "\"\"\"slow\"\"\"\n",
    "soup = BeautifulSoup(html_code, 'html5lib')\n",
    "\n",
    "print(soup.prettify())"
   ]
  },
  {
   "cell_type": "code",
   "execution_count": 29,
   "metadata": {},
   "outputs": [
    {
     "name": "stdout",
     "output_type": "stream",
     "text": [
      "<?xml version=\"1.0\" encoding=\"utf-8\"?>\n",
      "<b>\n",
      " I want\n",
      " <i>\n",
      "  spicy food\n",
      "  <br/>\n",
      " </i>\n",
      "</b>\n"
     ]
    }
   ],
   "source": [
    "soup = BeautifulSoup(html_code, 'xml')\n",
    "\n",
    "print(soup.prettify())"
   ]
  },
  {
   "cell_type": "code",
   "execution_count": null,
   "metadata": {},
   "outputs": [],
   "source": []
  }
 ],
 "metadata": {
  "kernelspec": {
   "display_name": "Python 3",
   "language": "python",
   "name": "python3"
  },
  "language_info": {
   "codemirror_mode": {
    "name": "ipython",
    "version": 3
   },
   "file_extension": ".py",
   "mimetype": "text/x-python",
   "name": "python",
   "nbconvert_exporter": "python",
   "pygments_lexer": "ipython3",
   "version": "3.7.4"
  }
 },
 "nbformat": 4,
 "nbformat_minor": 2
}
