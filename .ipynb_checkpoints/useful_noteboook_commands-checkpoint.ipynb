{
 "cells": [
  {
   "cell_type": "code",
   "execution_count": 3,
   "metadata": {},
   "outputs": [
    {
     "name": "stdout",
     "output_type": "stream",
     "text": [
      "Available Themes: \n",
      "   chesterish\n",
      "   grade3\n",
      "   gruvboxd\n",
      "   gruvboxl\n",
      "   monokai\n",
      "   oceans16\n",
      "   onedork\n",
      "   solarizedd\n",
      "   solarizedl\n"
     ]
    }
   ],
   "source": [
    "# !pip install jupyterthemes\n",
    "# !pip install --upgrade jupyterthemes\n",
    "!jt -l\n",
    "# !jt -t monokai\n",
    "# After this restart notebook to get the results\n",
    "\n",
    "\n"
   ]
  },
  {
   "cell_type": "code",
   "execution_count": 5,
   "metadata": {},
   "outputs": [
    {
     "name": "stdout",
     "output_type": "stream",
     "text": [
      "Requirement already satisfied: autopep8 in c:\\users\\gautam\\anaconda3\\lib\\site-packages (1.5)\n",
      "Requirement already satisfied: pycodestyle>=2.5.0 in c:\\users\\gautam\\anaconda3\\lib\\site-packages (from autopep8) (2.5.0)\n"
     ]
    }
   ],
   "source": [
    "# !pip install jupyter_contrib_nbextensions \n",
    "# !jupyter contrib nbextension install --user\n",
    "# Go to notebook main view where there will list of options available\n",
    "# Also check for dependencies\n",
    "!pip install autopep8"
   ]
  },
  {
   "cell_type": "code",
   "execution_count": null,
   "metadata": {},
   "outputs": [],
   "source": []
  }
 ],
 "metadata": {
  "kernelspec": {
   "display_name": "Python 3",
   "language": "python",
   "name": "python3"
  },
  "language_info": {
   "codemirror_mode": {
    "name": "ipython",
    "version": 3
   },
   "file_extension": ".py",
   "mimetype": "text/x-python",
   "name": "python",
   "nbconvert_exporter": "python",
   "pygments_lexer": "ipython3",
   "version": "3.7.4"
  }
 },
 "nbformat": 4,
 "nbformat_minor": 2
}
