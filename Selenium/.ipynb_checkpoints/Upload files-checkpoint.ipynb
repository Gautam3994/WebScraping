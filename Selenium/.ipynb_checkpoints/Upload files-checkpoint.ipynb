{
 "cells": [
  {
   "cell_type": "code",
   "execution_count": 13,
   "metadata": {},
   "outputs": [],
   "source": [
    "from selenium import webdriver\n",
    "from selenium.webdriver.common.by import By\n",
    "from selenium.webdriver.chrome.options import Options\n",
    "\n",
    "from bs4 import BeautifulSoup\n",
    "\n",
    "chrome_options = Options()\n",
    "chrome_options.add_argument(\"--kiosk\")\n",
    "\n",
    "driver = webdriver.Chrome(options=chrome_options)\n",
    "driver.get(\"https://tineye.com/\")"
   ]
  },
  {
   "cell_type": "code",
   "execution_count": 16,
   "metadata": {},
   "outputs": [],
   "source": [
    "\"\"\"usually we will have tag which has the field value for the documents we upload\"\"\"\n",
    "url_box = driver.find_element_by_name(\"image\")\n",
    "url_box.send_keys(\"C:/Users/Gautam/joker.jpg\")\n"
   ]
  },
  {
   "cell_type": "code",
   "execution_count": 17,
   "metadata": {},
   "outputs": [],
   "source": [
    "page_source_overview = driver.page_source"
   ]
  },
  {
   "cell_type": "code",
   "execution_count": 27,
   "metadata": {},
   "outputs": [
    {
     "name": "stdout",
     "output_type": "stream",
     "text": [
      "\n",
      "www.alamy.com\n",
      "\n",
      "vippers.jp\n",
      "\n",
      "film-cinema.it\n",
      "\n",
      "movies.film-cine.com\n",
      "\n",
      "speakertoanimals.wordpress.com\n",
      "\n",
      "img.web.id\n",
      "\n",
      "img.web.id\n",
      "\n",
      "voicesfilm.com\n",
      "\n",
      "vidmountain.us\n",
      "\n",
      "tumblr.com\n"
     ]
    }
   ],
   "source": [
    "soup = BeautifulSoup(page_source_overview, 'lxml')\n",
    "\n",
    "site_matches = soup.find_all('div', class_=\"match\")\n",
    "for match in site_matches:\n",
    "    sites = match.find_all('h4')\n",
    "    for site in sites:\n",
    "        print(site.text, end='')\n",
    "#You can iterate over each page and find more answers"
   ]
  },
  {
   "cell_type": "code",
   "execution_count": 12,
   "metadata": {},
   "outputs": [],
   "source": [
    "driver.quit()"
   ]
  }
 ],
 "metadata": {
  "kernelspec": {
   "display_name": "Python 3",
   "language": "python",
   "name": "python3"
  },
  "language_info": {
   "codemirror_mode": {
    "name": "ipython",
    "version": 3
   },
   "file_extension": ".py",
   "mimetype": "text/x-python",
   "name": "python",
   "nbconvert_exporter": "python",
   "pygments_lexer": "ipython3",
   "version": "3.7.4"
  }
 },
 "nbformat": 4,
 "nbformat_minor": 2
}
