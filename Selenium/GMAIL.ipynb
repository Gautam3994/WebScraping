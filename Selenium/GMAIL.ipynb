{
 "cells": [
  {
   "cell_type": "code",
   "execution_count": 1,
   "metadata": {},
   "outputs": [],
   "source": [
    "from selenium import webdriver\n",
    "from selenium.webdriver.common.keys import Keys\n",
    "from selenium.webdriver.chrome.options import Options\n",
    "from selenium.webdriver.support.ui import WebDriverWait\n",
    "from selenium.webdriver.support import expected_conditions\n",
    "from selenium.webdriver.common.by import By\n",
    "import time\n",
    "\n",
    "chromeOptions = Options()\n",
    "chromeOptions.add_argument(\"--kiosk\")\n",
    "chromeOptions.add_argument(\"--user-data-dir=C:/Users/Gautam/AppData/Local/Google/Chrome/User Data/Default\")\n",
    "chromeOptions.add_argument(\"user-agent=Mozilla/5.0 (Windows NT 6.1; Win64; x64; rv:47.0) Gecko/20100101 Firefox/47.0\")\n",
    "# chromeOptions.add_argument(\"Mozilla/5.0 (Macintosh; Intel Mac OS X 10_9_3) AppleWebKit/537.36 (KHTML, like Gecko) Chrome/35.0.1916.47 Safari/537.36\")"
   ]
  },
  {
   "cell_type": "code",
   "execution_count": 6,
   "metadata": {},
   "outputs": [],
   "source": [
    "# https://accounts.google.com/signup\n",
    "\n",
    "google_driver = webdriver.Chrome(options=chromeOptions)\n",
    "google_driver.get(\"https://accounts.google.com/signup\")\n",
    "\n",
    "\n",
    "def slow_typing(element, text):\n",
    "   for character in text:\n",
    "      element.send_keys(character)\n",
    "      time.sleep(0.3)\n",
    "\n",
    "\n",
    "element = WebDriverWait(google_driver, 10).until(\n",
    "    expected_conditions.element_to_be_clickable((By.NAME, \"firstName\")))\n",
    "\n",
    "first_name = google_driver.find_element_by_name(\"firstName\")\n",
    "time.sleep(1)\n",
    "slow_typing(first_name, \"Gautam\")\n",
    "time.sleep(1)\n",
    "\n",
    "last_name = google_driver.find_element_by_name(\"lastName\")\n",
    "time.sleep(1)\n",
    "slow_typing(last_name, \"Kumar\")\n",
    "time.sleep(1)\n",
    "\n",
    "\n",
    "email = google_driver.find_element_by_name(\"Username\")\n",
    "email.clear()\n",
    "time.sleep(1)\n",
    "slow_typing(email, \"plursalsighttesting\")\n",
    "time.sleep(1)\n",
    "\n",
    "password = google_driver.find_element_by_name(\"Passwd\")\n",
    "time.sleep(1)\n",
    "slow_typing(password, \"@Madaafhm7\")\n",
    "time.sleep(1)\n",
    "\n",
    "confirm_password = google_driver.find_element_by_name(\"ConfirmPasswd\")\n",
    "time.sleep(1)\n",
    "slow_typing(confirm_password, \"@Madaafhm7\")\n",
    "time.sleep(1)\n",
    "\n",
    "next_ = google_driver.find_element_by_xpath(\"//span[contains(text(), 'Next')]\")\n",
    "time.sleep(2)\n",
    "next_.click()\n"
   ]
  },
  {
   "cell_type": "code",
   "execution_count": 7,
   "metadata": {},
   "outputs": [],
   "source": [
    "google_driver.quit()"
   ]
  },
  {
   "cell_type": "code",
   "execution_count": null,
   "metadata": {},
   "outputs": [],
   "source": []
  }
 ],
 "metadata": {
  "kernelspec": {
   "display_name": "Python 3",
   "language": "python",
   "name": "python3"
  },
  "language_info": {
   "codemirror_mode": {
    "name": "ipython",
    "version": 3
   },
   "file_extension": ".py",
   "mimetype": "text/x-python",
   "name": "python",
   "nbconvert_exporter": "python",
   "pygments_lexer": "ipython3",
   "version": "3.7.4"
  }
 },
 "nbformat": 4,
 "nbformat_minor": 2
}
