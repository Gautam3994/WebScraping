{
 "cells": [
  {
   "cell_type": "code",
   "execution_count": 3,
   "metadata": {},
   "outputs": [],
   "source": [
    "from selenium import webdriver\n",
    "from selenium.webdriver.common.keys import Keys\n",
    "from selenium.webdriver.chrome.options import Options\n",
    "import time\n",
    "\n",
    "chromeOptions = Options()\n",
    "# fullscreen\n",
    "chromeOptions.add_argument(\"--kiosk\")\n",
    "chromeOptions.add_argument(\"--incognito\")"
   ]
  },
  {
   "cell_type": "code",
   "execution_count": 17,
   "metadata": {},
   "outputs": [],
   "source": [
    "driver = webdriver.Chrome(options=chromeOptions)\n",
    "driver.get(\"https://www.amazon.in/\")\n",
    "\n",
    "\"\"\"Find element by ID\"\"\"\n",
    "element = driver.find_element_by_id(\"twotabsearchtextbox\") # if textbox doesnt appear immediately so you have\n",
    "# ve to add click functionality\n",
    "time.sleep(1) # just to toggle and see whats happening\n",
    "# element.clear() # to remove any pre-existing text\n",
    "element.send_keys(\"Data Cable\")\n",
    "element.send_keys(Keys.RETURN) # just like pressing enter"
   ]
  },
  {
   "cell_type": "code",
   "execution_count": 25,
   "metadata": {},
   "outputs": [],
   "source": [
    "driver.quit()"
   ]
  },
  {
   "cell_type": "code",
   "execution_count": 19,
   "metadata": {},
   "outputs": [],
   "source": [
    "\"\"\"Find element by ID\"\"\"\n",
    "python_driver = webdriver.Chrome(options=chromeOptions)\n",
    "python_driver.get(\"https://www.python.org/\")\n",
    "\n",
    "element = python_driver.find_element_by_name(\"q\")\n",
    "time.sleep(1)\n",
    "element.send_keys(\"Dictionary\")\n",
    "element.send_keys(Keys.RETURN)"
   ]
  },
  {
   "cell_type": "code",
   "execution_count": 30,
   "metadata": {},
   "outputs": [],
   "source": [
    "python_driver.quit()"
   ]
  },
  {
   "cell_type": "code",
   "execution_count": 24,
   "metadata": {},
   "outputs": [],
   "source": [
    "\"\"\"Find element by link text - FULL MATCH\"\"\"\n",
    "driver = webdriver.Chrome(options=chromeOptions)\n",
    "driver.get(\"https://www.amazon.in/\")\n",
    "\n",
    "element = driver.find_element_by_id(\"twotabsearchtextbox\") # if textbox doesnt appear immediately so you have\n",
    "# ve to add click functionality\n",
    "time.sleep(1) # just to toggle and see whats happening\n",
    "# element.clear() # to remove any pre-existing text\n",
    "element.send_keys(\"Data Cable\")\n",
    "element.send_keys(Keys.RETURN) # just like pressing enter\n",
    "\n",
    "element_link = driver.find_element_by_link_text(\"boAt Rugged v3 Extra Tough Unbreakable Braided Micro USB Cable 1.5 Meter (Black)\")\n",
    "time.sleep(2)\n",
    "element_link.click()"
   ]
  },
  {
   "cell_type": "code",
   "execution_count": null,
   "metadata": {},
   "outputs": [],
   "source": [
    "driver.quit()"
   ]
  },
  {
   "cell_type": "code",
   "execution_count": 33,
   "metadata": {},
   "outputs": [],
   "source": [
    "\"\"\"Find element by link text - PARTIAL MATCH\"\"\"\n",
    "driver = webdriver.Chrome(options=chromeOptions)\n",
    "driver.get(\"https://www.amazon.in/\")\n",
    "\n",
    "element = driver.find_element_by_id(\"twotabsearchtextbox\") # if textbox doesnt appear immediately so you have\n",
    "# ve to add click functionality\n",
    "time.sleep(1) # just to toggle and see whats happening\n",
    "# element.clear() # to remove any pre-existing text\n",
    "element.send_keys(\"Data Cable\")\n",
    "element.send_keys(Keys.RETURN) # just like pressing enter\n",
    "\n",
    "element_link = driver.find_element_by_partial_link_text(\"boAt\")\n",
    "time.sleep(2)\n",
    "element_link.click()"
   ]
  },
  {
   "cell_type": "code",
   "execution_count": 34,
   "metadata": {},
   "outputs": [],
   "source": [
    "driver.quit()"
   ]
  },
  {
   "cell_type": "code",
   "execution_count": 52,
   "metadata": {},
   "outputs": [],
   "source": [
    "\"\"\"Find element by CSS Selector\"\"\"\n",
    "\n",
    "pluralsight_driver = webdriver.Chrome(options=chromeOptions)\n",
    "pluralsight_driver.get(\"https://www.pluralsight.com/\")\n",
    "\n",
    "search_element_link = pluralsight_driver.find_element_by_css_selector(\"li.ps-nav--search\")\n",
    "time.sleep(3) # always keep sleep time bit high while testing\n",
    "search_element_link.click()\n",
    "\n",
    "search =  pluralsight_driver.find_element_by_css_selector(\"form#header_searchForm > input.header_search--input\")\n",
    "search.send_keys(\"Data Science\")\n",
    "search.send_keys(Keys.RETURN)"
   ]
  },
  {
   "cell_type": "code",
   "execution_count": 59,
   "metadata": {},
   "outputs": [],
   "source": [
    "pluralsight_driver.quit()"
   ]
  },
  {
   "cell_type": "code",
   "execution_count": 58,
   "metadata": {},
   "outputs": [],
   "source": [
    "\"\"\"Find element by XPATH\"\"\"\n",
    "pluralsight_driver = webdriver.Chrome(options=chromeOptions)\n",
    "pluralsight_driver.get(\"https://www.pluralsight.com/\")\n",
    "\n",
    "search_element_link = pluralsight_driver.find_element_by_xpath(\"//li[@class='ps-nav--search']\")\n",
    "time.sleep(3) # always keep sleep time bit high while testing\n",
    "search_element_link.click()\n",
    "\n",
    "search =  pluralsight_driver.find_element_by_xpath(\"//form[@id='header_searchForm']/input[@class='header_search--input']\")\n",
    "search.send_keys(\"Data Science\")\n",
    "search.send_keys(Keys.RETURN)\n"
   ]
  },
  {
   "cell_type": "code",
   "execution_count": null,
   "metadata": {},
   "outputs": [],
   "source": [
    "\"\"\"LOCAING ELEMENT BY TAG NAME AND CLASS NAME NOT COVERED\"\"\""
   ]
  }
 ],
 "metadata": {
  "kernelspec": {
   "display_name": "Python 3",
   "language": "python",
   "name": "python3"
  },
  "language_info": {
   "codemirror_mode": {
    "name": "ipython",
    "version": 3
   },
   "file_extension": ".py",
   "mimetype": "text/x-python",
   "name": "python",
   "nbconvert_exporter": "python",
   "pygments_lexer": "ipython3",
   "version": "3.7.4"
  }
 },
 "nbformat": 4,
 "nbformat_minor": 2
}
