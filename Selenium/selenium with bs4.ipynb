{
 "cells": [
  {
   "cell_type": "code",
   "execution_count": 9,
   "metadata": {},
   "outputs": [],
   "source": [
    "from selenium import webdriver\n",
    "from selenium.webdriver.common.keys import Keys\n",
    "from selenium.webdriver.chrome.options import Options\n",
    "from selenium.webdriver.support.ui import WebDriverWait\n",
    "from selenium.webdriver.support import expected_conditions\n",
    "from selenium.webdriver.common.by import By\n",
    "import time"
   ]
  },
  {
   "cell_type": "code",
   "execution_count": 16,
   "metadata": {},
   "outputs": [],
   "source": [
    "chromeOptions = Options()\n",
    "chromeOptions.add_argument(\"--kiosk\")\n",
    "chromeOptions.add_argument(\"--user-data-dir=C:/Users/Gautam/AppData/Local/Google/Chrome/User Data/Default\")\n",
    "chromeOptions.add_argument(\"user-agent=Mozilla/5.0 (Windows NT 10.0; Win64; x64) AppleWebKit/537.36 (KHTML, like Gecko) Chrome/80.0.3987.149 Safari/537.36\")\n",
    "chromeOptions.add_argument('--disable-extensions')\n",
    "chromeOptions.add_argument('--profile-directory=Default')\n",
    "chromeOptions.add_argument(\"--incognito\")\n",
    "chromeOptions.add_argument(\"--disable-plugins-discovery\");\n",
    "chromeOptions.add_argument(\"--start-maximized\")\n",
    "\n",
    "player_name = \"Marcus Rashford\"\n",
    "\n",
    "def slow_typing(element, text):\n",
    "   for character in text:\n",
    "      element.send_keys(character)\n",
    "      time.sleep(0.3)\n",
    "\n",
    "chrome_driver = webdriver.Chrome(options=chromeOptions)\n",
    "chrome_driver.get(\"https://www.premierleague.com/\")\n",
    "# BELOW IS A BUILT_IN JAVASCRIPT METHOD TO FIND USER AGENT\n",
    "# print(chrome_driver.execute_script(\"return navigator.userAgent\"))\n",
    "\n",
    "\"\"\"Enable developer mode in chrome://extensions/\"\"\"\n",
    "\n",
    "try:\n",
    "    time.sleep(2)\n",
    "    element = WebDriverWait(chrome_driver, 10).until(expected_conditions.element_to_be_clickable((By.XPATH, \"//div[contains(text(), 'I accept cookies from this site')]\")))\n",
    "    element.click()\n",
    "except Exception as e: \n",
    "    print(e)\n",
    "    print(\"Cookies not accepted\")\n",
    "\n",
    "time.sleep(2)\n",
    "players_tab = chrome_driver.find_element_by_link_text(\"Players\")\n",
    "players_tab.click()\n",
    "\n",
    "waiting_for_search_input = WebDriverWait(chrome_driver, 10).until(\n",
    "    expected_conditions.element_to_be_clickable((By.CSS_SELECTOR, 'input#search-input')))\n",
    "slow_typing(waiting_for_search_input, player_name)\n",
    "waiting_for_search_input.send_keys(Keys.RETURN)\n",
    "\n",
    "chrome_driver.implicitly_wait(2)\n",
    "search_button = chrome_driver.find_element_by_css_selector(\"div.search-sm\")\n",
    "search_button.click()\n",
    "\n",
    "chrome_driver.implicitly_wait(2)\n",
    "pick_the_player = chrome_driver.find_element_by_link_text(player_name)\n",
    "pick_the_player.click()\n",
    "\n",
    "chrome_driver.implicitly_wait(2)\n",
    "\"\"\"saving page source info to a variable\"\"\"\n",
    "page_source_overview = chrome_driver.page_source"
   ]
  },
  {
   "cell_type": "code",
   "execution_count": 17,
   "metadata": {},
   "outputs": [
    {
     "name": "stdout",
     "output_type": "stream",
     "text": [
      "\n",
      "Latest Player News\n",
      "\n",
      "GW22 Captains: No place like home for Rashford\n",
      "GW17 Captains: Rashford to reward new owners\n",
      "Rashford double hands Mourinho first defeat\n",
      "GW13 Lessons: Wide role lifting Rashford\n"
     ]
    }
   ],
   "source": [
    "\"\"\"Using beautiful soup\"\"\"\n",
    "from bs4 import BeautifulSoup\n",
    "\n",
    "soup = BeautifulSoup(page_source_overview, 'lxml')\n",
    "latest_news = soup.find(\"section\", class_=\"latestFeatures\")\n",
    "print(latest_news.header.text)\n",
    "all_titles = latest_news.find_all(\"span\", class_=\"title\")\n",
    "for title in all_titles:\n",
    "    print(title.text)"
   ]
  },
  {
   "cell_type": "code",
   "execution_count": 18,
   "metadata": {},
   "outputs": [],
   "source": [
    "time.sleep(2)\n",
    "stats = chrome_driver.find_element_by_xpath(\"//a[@href='stats']\").click()\n",
    "time.sleep(3)\n",
    "stats_source = chrome_driver.page_source"
   ]
  },
  {
   "cell_type": "code",
   "execution_count": 21,
   "metadata": {},
   "outputs": [
    {
     "name": "stdout",
     "output_type": "stream",
     "text": [
      "appearances-133\n",
      "goals-41\n",
      "wins-70\n",
      "losses-27\n",
      "goals-41\n",
      "goals-0.31\n",
      "att_hd_goal-4\n",
      "att_rf_goal-33\n",
      "att_lf_goal-4\n",
      "att_pen_goal-5\n",
      "att_freekick_goal-1\n",
      "total_scoring_att-279\n",
      "ontarget_scoring_att-120\n",
      "ontarget_scoring_att-43%\n",
      "hit_woodwork-9\n",
      "big_chance_missed-35\n",
      "goal_assist-18\n",
      "total_pass-2,556\n",
      "total_pass-19.22\n",
      "big_chance_created-22\n",
      "total_cross-250\n",
      "yellow_card-11\n",
      "red_card-1\n",
      "fouls-82\n",
      "total_offside-47\n",
      "total_tackle-73\n",
      "blocked_scoring_att-71\n",
      "interception-31\n",
      "total_clearance-64\n",
      "effective_head_clearance-29\n"
     ]
    }
   ],
   "source": [
    "# //*[@id=\"mainContent\"]/div[3]/div/div/div[2]/div/div/ul/li[1]/div/div[2]\n",
    "soup = BeautifulSoup(stats_source, 'lxml')\n",
    "career_stats = soup.find_all(\"span\", class_=\"allStatContainer\")\n",
    "for stat in career_stats:\n",
    "    print(stat[\"data-stat\"] + \"-\" + stat.string)"
   ]
  },
  {
   "cell_type": "code",
   "execution_count": 25,
   "metadata": {},
   "outputs": [
    {
     "name": "stdout",
     "output_type": "stream",
     "text": [
      "Appearances   133\n",
      "\n",
      "Goals   41\n",
      "\n",
      "Wins   70\n",
      "\n",
      "Losses   27\n",
      "\n",
      "Attack\n",
      "Goals   41\n",
      "\n",
      "Goals per match   0.31\n",
      "\n",
      "Headed goals   4\n",
      "\n",
      "Goals with right foot   33\n",
      "\n",
      "Goals with left foot   4\n",
      "\n",
      "Penalties scored   5\n",
      "\n",
      "Freekicks scored   1\n",
      "\n",
      "Shots   279\n",
      "\n",
      "Shots on target   120\n",
      "\n",
      "Shooting accuracy %   43%\n",
      "\n",
      "Hit woodwork   9\n",
      "\n",
      "Big chances missed   35\n",
      "\n",
      "Team Play\n",
      "Assists   18\n",
      "\n",
      "Passes   2,556\n",
      "\n",
      "Passes per match   19.22\n",
      "\n",
      "Big chances created   22\n",
      "\n",
      "Crosses   250\n",
      "\n",
      "Discipline\n",
      "Yellow cards   11\n",
      "\n",
      "Red cards   1\n",
      "\n",
      "Fouls   82\n",
      "\n",
      "Offsides   47\n",
      "\n",
      "Defence\n",
      "Tackles   73\n",
      "\n",
      "Blocked shots   71\n",
      "\n",
      "Interceptions   31\n",
      "\n",
      "Clearances   64\n",
      "\n",
      "Headed Clearance   29\n",
      "\n"
     ]
    }
   ],
   "source": [
    "for any_ in soup.find_all(\"span\", class_=\"stat\"):\n",
    "    print(any_.text)"
   ]
  },
  {
   "cell_type": "code",
   "execution_count": 26,
   "metadata": {},
   "outputs": [],
   "source": [
    "chrome_driver.quit()"
   ]
  }
 ],
 "metadata": {
  "kernelspec": {
   "display_name": "Python 3",
   "language": "python",
   "name": "python3"
  },
  "language_info": {
   "codemirror_mode": {
    "name": "ipython",
    "version": 3
   },
   "file_extension": ".py",
   "mimetype": "text/x-python",
   "name": "python",
   "nbconvert_exporter": "python",
   "pygments_lexer": "ipython3",
   "version": "3.7.4"
  }
 },
 "nbformat": 4,
 "nbformat_minor": 2
}
