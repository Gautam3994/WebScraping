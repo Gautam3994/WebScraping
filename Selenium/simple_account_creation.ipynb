{
 "cells": [
  {
   "cell_type": "code",
   "execution_count": 46,
   "metadata": {},
   "outputs": [],
   "source": [
    "from selenium import webdriver\n",
    "from selenium.webdriver.common.keys import Keys\n",
    "from selenium.webdriver.common.by import By\n",
    "from selenium.webdriver.chrome.options import Options\n",
    "from selenium.webdriver.support.ui import WebDriverWait\n",
    "from selenium.webdriver.support import expected_conditions\n",
    "from selenium.webdriver.support.ui import Select\n",
    "import time\n",
    "\n",
    "chromeOptions = Options()\n",
    "chromeOptions.add_argument(\"--kiosk\")\n",
    "chromeOptions.add_argument(\"--user-data-dir=C:/Users/Gautam/AppData/Local/Google/Chrome/User Data/Default\")\n",
    "chromeOptions.add_argument(\"user-agent=Mozilla/5.0 (Windows NT 10.0; Win64; x64) AppleWebKit/537.36 (KHTML, like Gecko) Chrome/80.0.3987.149 Safari/537.36\")\n",
    "chromeOptions.add_argument('--disable-extensions')\n",
    "chromeOptions.add_argument('--profile-directory=Default')\n",
    "chromeOptions.add_argument(\"--incognito\")\n",
    "chromeOptions.add_argument(\"--disable-plugins-discovery\");\n",
    "chromeOptions.add_argument(\"--start-maximized\")"
   ]
  },
  {
   "cell_type": "code",
   "execution_count": 47,
   "metadata": {},
   "outputs": [],
   "source": [
    "driver = webdriver.Chrome(options=chromeOptions)\n",
    "driver.get(\"http://automationpractice.com/index.php?controller=authentication&back=my-account\")\n",
    "\n",
    "def slow_typing(element, text):\n",
    "   for character in text:\n",
    "      element.send_keys(character)\n",
    "      time.sleep(0.3)\n",
    "\n",
    "element = WebDriverWait(driver, 10).until(expected_conditions.element_to_be_clickable(\n",
    "    (By.NAME, \"email_create\")))\n",
    "element.clear()\n",
    "slow_typing(element, \"pluralsight1@gmail.com\")"
   ]
  },
  {
   "cell_type": "code",
   "execution_count": 48,
   "metadata": {},
   "outputs": [],
   "source": [
    "submit = driver.find_element_by_name(\"SubmitCreate\")\n",
    "submit.click()"
   ]
  },
  {
   "cell_type": "code",
   "execution_count": 49,
   "metadata": {},
   "outputs": [],
   "source": [
    "driver.implicitly_wait(5)\n",
    "gender = driver.find_element_by_id(\"id_gender1\")\n",
    "gender.click()\n",
    "\n",
    "first_name = driver.find_element_by_name(\"customer_firstname\")\n",
    "slow_typing(first_name, \"gautam\")\n",
    "\n",
    "last_name = driver.find_element_by_name(\"customer_lastname\")\n",
    "slow_typing(last_name, \"kumar\")\n",
    "\n",
    "password = driver.find_element_by_name(\"passwd\")\n",
    "slow_typing(password, \"password\")"
   ]
  },
  {
   "cell_type": "code",
   "execution_count": 50,
   "metadata": {},
   "outputs": [],
   "source": [
    "\"Drop downs\"\n",
    "\n",
    "birth_date = Select(driver.find_element_by_id(\"days\"))\n",
    "birth_date.select_by_value('10')\n",
    "\n",
    "dob_month = Select(driver.find_element_by_id(\"months\"))\n",
    "# NOTICE when you are using select by visible text you must copy paste from the options\n",
    "dob_month.select_by_visible_text(\"May \")\n",
    "\n",
    "dob_year = Select(driver.find_element_by_id(\"years\"))\n",
    "dob_year.select_by_value(\"1994\")"
   ]
  },
  {
   "cell_type": "code",
   "execution_count": 51,
   "metadata": {},
   "outputs": [],
   "source": [
    "\"\"\"Check box\"\"\"\n",
    "news_letter = driver.find_element_by_id(\"newsletter\")\n",
    "news_letter.click()"
   ]
  },
  {
   "cell_type": "code",
   "execution_count": 52,
   "metadata": {},
   "outputs": [],
   "source": [
    "company = driver.find_element_by_id(\"company\")\n",
    "company.clear()\n",
    "slow_typing(company, \"Infosys\")\n",
    "\n",
    "address = driver.find_element_by_id(\"address1\")\n",
    "address.clear()\n",
    "slow_typing(address, \"middle of no where\")\n",
    "\n",
    "city = driver.find_element_by_id(\"city\")\n",
    "city.clear()\n",
    "slow_typing(city, \"Chengalpattu\")\n",
    "\n",
    "state = Select(driver.find_element_by_id(\"id_state\"))\n",
    "state.select_by_value(\"20\")\n",
    "\n",
    "country = Select(driver.find_element_by_id(\"id_country\"))\n",
    "country.select_by_value(\"21\")\n"
   ]
  },
  {
   "cell_type": "code",
   "execution_count": 53,
   "metadata": {},
   "outputs": [],
   "source": [
    "phone = driver.find_element_by_id(\"phone_mobile\")\n",
    "phone.clear()\n",
    "slow_typing(phone, \"91323452352\")\n",
    "\n",
    "another_email = driver.find_element_by_id(\"alias\")\n",
    "another_email.clear()\n",
    "slow_typing(another_email, \"xxx@gmail.com\")\n",
    "\n",
    "postal_code = driver.find_element_by_id(\"postcode\")\n",
    "postal_code.clear()\n",
    "slow_typing(postal_code, \"00000\")\n",
    "\n",
    "submit = driver.find_element_by_id(\"submitAccount\")\n",
    "submit.click()"
   ]
  },
  {
   "cell_type": "code",
   "execution_count": 55,
   "metadata": {},
   "outputs": [],
   "source": [
    "driver.quit()"
   ]
  }
 ],
 "metadata": {
  "kernelspec": {
   "display_name": "Python 3",
   "language": "python",
   "name": "python3"
  },
  "language_info": {
   "codemirror_mode": {
    "name": "ipython",
    "version": 3
   },
   "file_extension": ".py",
   "mimetype": "text/x-python",
   "name": "python",
   "nbconvert_exporter": "python",
   "pygments_lexer": "ipython3",
   "version": "3.7.4"
  }
 },
 "nbformat": 4,
 "nbformat_minor": 2
}
