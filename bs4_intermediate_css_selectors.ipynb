{
 "cells": [
  {
   "cell_type": "code",
   "execution_count": 3,
   "metadata": {},
   "outputs": [
    {
     "name": "stdout",
     "output_type": "stream",
     "text": [
      "<html>\n",
      " <head>\n",
      "  <title>\n",
      "   The story of Tom and Jerry\n",
      "  </title>\n",
      " </head>\n",
      " <body class=\"container\">\n",
      "  <h1>\n",
      "   Tom and Jerry\n",
      "  </h1>\n",
      "  &gt;\n",
      "  <img alt=\"cartoon_image\" height=\"300\" src=\"TomAndJerry.jpg\" width=\"300\"/>\n",
      "  <p class=\"comedy animated series\">\n",
      "   Tom and Jerry is an American animated series of comedy short films created by\n",
      "   <a class=\"creator\" href=\"https://en.wikipedia.org/wiki/William_Hanna\" id=\"link1\">\n",
      "    William Hanna\n",
      "   </a>\n",
      "   and\n",
      "   <a class=\"creator\" href=\"https://en.wikipedia.org/wiki/Joseph_Barbera\" id=\"link2\">\n",
      "    Joseph Barbera\n",
      "   </a>\n",
      "   . \n",
      "        It centers on a rivalry between the title characters\n",
      "   <a class=\"character\" href=\"https://en.wikipedia.org/wiki/Tom_Cat\" id=\"link3\">\n",
      "    Tom\n",
      "   </a>\n",
      "   , a cat, and\n",
      "   <a class=\"character\" href=\"https://en.wikipedia.org/wiki/Jerry_Mouse\" id=\"link4\">\n",
      "    Jerry\n",
      "   </a>\n",
      "   , a mouse.\n",
      "  </p>\n",
      "  <div>\n",
      "   <img alt=\"creator_image\" height=\"300\" name=\"William_Hanna\" src=\"https://upload.wikimedia.org/wikipedia/commons/d/d2/William_Hanna_1977.jpg\" width=\"300\"/>\n",
      "   <img alt=\"creator_image\" height=\"300\" name=\"Joseph_Barbera\" src=\"https://upload.wikimedia.org/wikipedia/commons/6/67/JBarbera.jpg\" width=\"300\"/>\n",
      "   <img src=\"https://upload.wikimedia.org/wikipedia/en/2/2f/Jerry_Mouse.png\"/>\n",
      "   <img extra-info=\"Tom_Cat\" src=\"https://upload.wikimedia.org/wikipedia/en/f/f6/Tom_Tom_and_Jerry.png\"/>\n",
      "  </div>\n",
      "  <p class=\"comedy story\">\n",
      "   <b>\n",
      "    The series features comic fights between an iconic pair of adversaries, \n",
      "                a house cat (Tom) and a mouse (Jerry). The plots of each short usually center on Tom's \n",
      "                numerous attempts to capture Jerry and the mayhem and destruction that follows. \n",
      "                Tom rarely succeeds in catching Jerry, mainly because of Jerry's cleverness, \n",
      "                cunning abilities, and luck.\n",
      "   </b>\n",
      "  </p>\n",
      "  <i>\n",
      "   Tom and Jerry show is a full length comedy show\n",
      "  </i>\n",
      " </body>\n",
      "</html>\n",
      "\n"
     ]
    }
   ],
   "source": [
    "import re\n",
    "from bs4 import BeautifulSoup\n",
    "\n",
    "with open(\"files/TomJerry_WithImages.html\") as html:\n",
    "    soup = BeautifulSoup(html, \"lxml\")\n",
    "\n",
    "print(soup.prettify())"
   ]
  },
  {
   "cell_type": "code",
   "execution_count": 2,
   "metadata": {},
   "outputs": [
    {
     "name": "stdout",
     "output_type": "stream",
     "text": [
      "[<a class=\"creator\" href=\"https://en.wikipedia.org/wiki/William_Hanna\" id=\"link1\">William Hanna</a>]\n",
      "\n",
      "[]\n",
      "\n",
      "[<a class=\"creator\" href=\"https://en.wikipedia.org/wiki/William_Hanna\" id=\"link1\">William Hanna</a>, <a class=\"creator\" href=\"https://en.wikipedia.org/wiki/Joseph_Barbera\" id=\"link2\">Joseph Barbera</a>, <a class=\"character\" href=\"https://en.wikipedia.org/wiki/Tom_Cat\" id=\"link3\">Tom</a>, <a class=\"character\" href=\"https://en.wikipedia.org/wiki/Jerry_Mouse\" id=\"link4\">Jerry</a>]\n",
      "\n"
     ]
    }
   ],
   "source": [
    "\"\"\"rescursive, limit\"\"\"\n",
    "\n",
    "limit_a = soup.find_all(\"a\", limit=1)\n",
    "print(limit_a)\n",
    "print()\n",
    "\"\"\"Recursion is set to True by default\"\"\"\n",
    "limit_a_recursive = soup.find_all(\"a\", recursive=False)\n",
    "print(limit_a_recursive)\n",
    "print()\n",
    "limit_a_not_recursive = soup.find_all(\"a\", recursive=True)\n",
    "print(limit_a_not_recursive)\n",
    "print()\n"
   ]
  },
  {
   "cell_type": "code",
   "execution_count": 3,
   "metadata": {},
   "outputs": [
    {
     "data": {
      "text/plain": [
       "[<a class=\"creator\" href=\"https://en.wikipedia.org/wiki/William_Hanna\" id=\"link1\">William Hanna</a>,\n",
       " <a class=\"creator\" href=\"https://en.wikipedia.org/wiki/Joseph_Barbera\" id=\"link2\">Joseph Barbera</a>,\n",
       " <a class=\"character\" href=\"https://en.wikipedia.org/wiki/Tom_Cat\" id=\"link3\">Tom</a>,\n",
       " <a class=\"character\" href=\"https://en.wikipedia.org/wiki/Jerry_Mouse\" id=\"link4\">Jerry</a>]"
      ]
     },
     "execution_count": 3,
     "metadata": {},
     "output_type": "execute_result"
    }
   ],
   "source": [
    "\"\"\"below is equivalent to find_all\"\"\"\n",
    "soup('a')"
   ]
  },
  {
   "cell_type": "code",
   "execution_count": 4,
   "metadata": {},
   "outputs": [
    {
     "name": "stdout",
     "output_type": "stream",
     "text": [
      "[<p class=\"comedy animated series\">\n",
      "        Tom and Jerry is an American animated series of comedy short films created by \n",
      "        <a class=\"creator\" href=\"https://en.wikipedia.org/wiki/William_Hanna\" id=\"link1\">William Hanna</a> and  \n",
      "        <a class=\"creator\" href=\"https://en.wikipedia.org/wiki/Joseph_Barbera\" id=\"link2\">Joseph Barbera</a>. \n",
      "        It centers on a rivalry between the title characters\n",
      "        <a class=\"character\" href=\"https://en.wikipedia.org/wiki/Tom_Cat\" id=\"link3\">Tom</a>, a cat, and \n",
      "        <a class=\"character\" href=\"https://en.wikipedia.org/wiki/Jerry_Mouse\" id=\"link4\">Jerry</a>, a mouse.</p>, <p class=\"comedy story\">\n",
      "<b>\n",
      "                The series features comic fights between an iconic pair of adversaries, \n",
      "                a house cat (Tom) and a mouse (Jerry). The plots of each short usually center on Tom's \n",
      "                numerous attempts to capture Jerry and the mayhem and destruction that follows. \n",
      "                Tom rarely succeeds in catching Jerry, mainly because of Jerry's cleverness, \n",
      "                cunning abilities, and luck. \n",
      "            </b>\n",
      "</p>]\n",
      "[<p class=\"comedy animated series\">\n",
      "        Tom and Jerry is an American animated series of comedy short films created by \n",
      "        <a class=\"creator\" href=\"https://en.wikipedia.org/wiki/William_Hanna\" id=\"link1\">William Hanna</a> and  \n",
      "        <a class=\"creator\" href=\"https://en.wikipedia.org/wiki/Joseph_Barbera\" id=\"link2\">Joseph Barbera</a>. \n",
      "        It centers on a rivalry between the title characters\n",
      "        <a class=\"character\" href=\"https://en.wikipedia.org/wiki/Tom_Cat\" id=\"link3\">Tom</a>, a cat, and \n",
      "        <a class=\"character\" href=\"https://en.wikipedia.org/wiki/Jerry_Mouse\" id=\"link4\">Jerry</a>, a mouse.</p>, <p class=\"comedy story\">\n",
      "<b>\n",
      "                The series features comic fights between an iconic pair of adversaries, \n",
      "                a house cat (Tom) and a mouse (Jerry). The plots of each short usually center on Tom's \n",
      "                numerous attempts to capture Jerry and the mayhem and destruction that follows. \n",
      "                Tom rarely succeeds in catching Jerry, mainly because of Jerry's cleverness, \n",
      "                cunning abilities, and luck. \n",
      "            </b>\n",
      "</p>]\n"
     ]
    }
   ],
   "source": [
    "print(soup.body.find_all('p'))\n",
    "\"rescurive=False returns the values of direct children only\"\n",
    "print(soup.body.find_all('p', recursive=False))"
   ]
  },
  {
   "cell_type": "code",
   "execution_count": 5,
   "metadata": {},
   "outputs": [
    {
     "ename": "TypeError",
     "evalue": "find_all() got multiple values for argument 'name'",
     "output_type": "error",
     "traceback": [
      "\u001b[0;31m---------------------------------------------------------------------------\u001b[0m",
      "\u001b[0;31mTypeError\u001b[0m                                 Traceback (most recent call last)",
      "\u001b[0;32m<ipython-input-5-10db72a23efc>\u001b[0m in \u001b[0;36m<module>\u001b[0;34m\u001b[0m\n\u001b[1;32m      1\u001b[0m \u001b[0;34m\"\"\"custom attributes\"\"\"\u001b[0m\u001b[0;34m\u001b[0m\u001b[0;34m\u001b[0m\u001b[0m\n\u001b[0;32m----> 2\u001b[0;31m \u001b[0msoup\u001b[0m\u001b[0;34m.\u001b[0m\u001b[0mfind_all\u001b[0m\u001b[0;34m(\u001b[0m\u001b[0;34m'img'\u001b[0m\u001b[0;34m,\u001b[0m \u001b[0mname\u001b[0m\u001b[0;34m=\u001b[0m\u001b[0;34m\"William_Hanna\"\u001b[0m\u001b[0;34m)\u001b[0m\u001b[0;34m\u001b[0m\u001b[0;34m\u001b[0m\u001b[0m\n\u001b[0m",
      "\u001b[0;31mTypeError\u001b[0m: find_all() got multiple values for argument 'name'"
     ]
    }
   ],
   "source": [
    "\"\"\"custom attributes\"\"\"\n",
    "soup.find_all('img', name=\"William_Hanna\")"
   ]
  },
  {
   "cell_type": "code",
   "execution_count": null,
   "metadata": {},
   "outputs": [],
   "source": [
    "\"\"\"Fix above issue we use\"\"\"\n",
    "soup.find_all('img', attrs={\"name\": \"William_Hanna\"})"
   ]
  },
  {
   "cell_type": "code",
   "execution_count": null,
   "metadata": {},
   "outputs": [],
   "source": [
    "\"\"\"attributes with dash -\"\"\"\n",
    "soup.find_all('img', extra-info=\"Tom_Cat\")"
   ]
  },
  {
   "cell_type": "code",
   "execution_count": null,
   "metadata": {},
   "outputs": [],
   "source": [
    "soup.find_all('img', attrs={\"extra-info\": \"Tom_Cat\"})"
   ]
  },
  {
   "cell_type": "code",
   "execution_count": null,
   "metadata": {},
   "outputs": [],
   "source": [
    "print(soup.find_all(attrs={'character'}))\n",
    "print()\n",
    "print(soup.find_all(class_='character'))"
   ]
  },
  {
   "cell_type": "code",
   "execution_count": null,
   "metadata": {},
   "outputs": [],
   "source": [
    "import re\n",
    "print(soup.find_all(attrs={re.compile(r\"^ani\")}))"
   ]
  },
  {
   "cell_type": "code",
   "execution_count": null,
   "metadata": {},
   "outputs": [],
   "source": [
    "soup.find_all(string= \"Tom\")"
   ]
  },
  {
   "cell_type": "code",
   "execution_count": null,
   "metadata": {},
   "outputs": [],
   "source": [
    "soup.find_all(\"a\", string= \"Tom\")"
   ]
  },
  {
   "cell_type": "code",
   "execution_count": null,
   "metadata": {},
   "outputs": [],
   "source": [
    "soup.find_all([\"b\", \"p\"], string= re.compile('cat'))"
   ]
  },
  {
   "cell_type": "code",
   "execution_count": null,
   "metadata": {},
   "outputs": [],
   "source": [
    "def is_the_only_string_within_a_tag(string_):\n",
    "    return string_ == string_.parent.string\n",
    "soup.find_all(string=is_the_only_string_within_a_tag)"
   ]
  },
  {
   "cell_type": "code",
   "execution_count": null,
   "metadata": {},
   "outputs": [],
   "source": [
    "\"\"\"find_parent\"\"\"\n",
    "a_tag = soup.find('a')\n",
    "print(a_tag)\n",
    "print()\n",
    "a_tag.find_parent(class_=\"container\")"
   ]
  },
  {
   "cell_type": "code",
   "execution_count": null,
   "metadata": {},
   "outputs": [],
   "source": [
    "a_tag.find_parents('p')"
   ]
  },
  {
   "cell_type": "code",
   "execution_count": null,
   "metadata": {},
   "outputs": [],
   "source": [
    "\"siblings\"\n",
    "print(a_tag.find_next_sibling(href=True))\n",
    "print()\n",
    "print(a_tag.find_next_siblings(href=True))\n",
    "print()\n",
    "print(a_tag.find_next_sibling(src=True))\n",
    "print()\n",
    "print(a_tag.find_next_siblings(src=True))\n",
    "print()\n",
    "print(a_tag.find_next(src=True))"
   ]
  },
  {
   "cell_type": "code",
   "execution_count": null,
   "metadata": {},
   "outputs": [],
   "source": [
    "\"siblings as well as in other elements\"\n",
    "print(a_tag.find_next(src=True))\n",
    "print()\n",
    "print(a_tag.find_all_next(src=True))\n",
    "print()"
   ]
  },
  {
   "cell_type": "code",
   "execution_count": null,
   "metadata": {},
   "outputs": [],
   "source": [
    "img_tag = soup.find('img', attrs={'extra-info': 'Tom_Cat'})\n",
    "img_tag"
   ]
  },
  {
   "cell_type": "code",
   "execution_count": null,
   "metadata": {},
   "outputs": [],
   "source": [
    "\"\"\"previous try using fetch methods they also work well\"\"\"\n",
    "print(img_tag.find_previous_sibling(alt=True))\n",
    "print()\n",
    "print(img_tag.find_previous_siblings(alt=True))"
   ]
  },
  {
   "cell_type": "code",
   "execution_count": null,
   "metadata": {},
   "outputs": [],
   "source": [
    "print(img_tag.find_previous(href=True))\n",
    "print(img_tag.find_all_previous(href=True))"
   ]
  },
  {
   "cell_type": "code",
   "execution_count": 4,
   "metadata": {},
   "outputs": [
    {
     "data": {
      "text/plain": [
       "[<title> The story of Tom and Jerry </title>]"
      ]
     },
     "execution_count": 4,
     "metadata": {},
     "output_type": "execute_result"
    }
   ],
   "source": [
    "\"\"\"CSS SELECTORS\"\"\"\n",
    "with open(\"files/TomJerry_WithImages.html\") as html:\n",
    "    soup = BeautifulSoup(html, 'lxml')\n",
    "soup.select('title') # soup.select works like soup.find_all()"
   ]
  },
  {
   "cell_type": "code",
   "execution_count": 6,
   "metadata": {},
   "outputs": [
    {
     "data": {
      "text/plain": [
       "[<p class=\"comedy animated series\">\n",
       "         Tom and Jerry is an American animated series of comedy short films created by \n",
       "         <a class=\"creator\" href=\"https://en.wikipedia.org/wiki/William_Hanna\" id=\"link1\">William Hanna</a> and  \n",
       "         <a class=\"creator\" href=\"https://en.wikipedia.org/wiki/Joseph_Barbera\" id=\"link2\">Joseph Barbera</a>. \n",
       "         It centers on a rivalry between the title characters\n",
       "         <a class=\"character\" href=\"https://en.wikipedia.org/wiki/Tom_Cat\" id=\"link3\">Tom</a>, a cat, and \n",
       "         <a class=\"character\" href=\"https://en.wikipedia.org/wiki/Jerry_Mouse\" id=\"link4\">Jerry</a>, a mouse.</p>]"
      ]
     },
     "execution_count": 6,
     "metadata": {},
     "output_type": "execute_result"
    }
   ],
   "source": [
    "soup.select(\"p:nth-of-type(1)\")"
   ]
  },
  {
   "cell_type": "code",
   "execution_count": 7,
   "metadata": {},
   "outputs": [
    {
     "data": {
      "text/plain": [
       "[<p class=\"comedy story\">\n",
       " <b>\n",
       "                 The series features comic fights between an iconic pair of adversaries, \n",
       "                 a house cat (Tom) and a mouse (Jerry). The plots of each short usually center on Tom's \n",
       "                 numerous attempts to capture Jerry and the mayhem and destruction that follows. \n",
       "                 Tom rarely succeeds in catching Jerry, mainly because of Jerry's cleverness, \n",
       "                 cunning abilities, and luck. \n",
       "             </b>\n",
       " </p>]"
      ]
     },
     "execution_count": 7,
     "metadata": {},
     "output_type": "execute_result"
    }
   ],
   "source": [
    "soup.select(\"p:nth-of-type(2)\")"
   ]
  },
  {
   "cell_type": "code",
   "execution_count": 8,
   "metadata": {},
   "outputs": [
    {
     "data": {
      "text/plain": [
       "[<i>Tom and Jerry show is a full length comedy show</i>]"
      ]
     },
     "execution_count": 8,
     "metadata": {},
     "output_type": "execute_result"
    }
   ],
   "source": [
    "\"\"\"soup.select works like soup.find_all()\"\"\"\n",
    "soup.select(\"i\")"
   ]
  },
  {
   "cell_type": "code",
   "execution_count": 9,
   "metadata": {},
   "outputs": [
    {
     "data": {
      "text/plain": [
       "[<a class=\"creator\" href=\"https://en.wikipedia.org/wiki/William_Hanna\" id=\"link1\">William Hanna</a>,\n",
       " <a class=\"creator\" href=\"https://en.wikipedia.org/wiki/Joseph_Barbera\" id=\"link2\">Joseph Barbera</a>,\n",
       " <a class=\"character\" href=\"https://en.wikipedia.org/wiki/Tom_Cat\" id=\"link3\">Tom</a>,\n",
       " <a class=\"character\" href=\"https://en.wikipedia.org/wiki/Jerry_Mouse\" id=\"link4\">Jerry</a>]"
      ]
     },
     "execution_count": 9,
     "metadata": {},
     "output_type": "execute_result"
    }
   ],
   "source": [
    "soup.select(\"body p a\")"
   ]
  },
  {
   "cell_type": "code",
   "execution_count": 10,
   "metadata": {},
   "outputs": [
    {
     "data": {
      "text/plain": [
       "[<b>\n",
       "                 The series features comic fights between an iconic pair of adversaries, \n",
       "                 a house cat (Tom) and a mouse (Jerry). The plots of each short usually center on Tom's \n",
       "                 numerous attempts to capture Jerry and the mayhem and destruction that follows. \n",
       "                 Tom rarely succeeds in catching Jerry, mainly because of Jerry's cleverness, \n",
       "                 cunning abilities, and luck. \n",
       "             </b>]"
      ]
     },
     "execution_count": 10,
     "metadata": {},
     "output_type": "execute_result"
    }
   ],
   "source": [
    "\"\"\"It works with both immediate as well as not immediate parent\"\"\"\n",
    "\"\"\"non - immediate parent\"\"\"\n",
    "soup.select(\"body b\")"
   ]
  },
  {
   "cell_type": "code",
   "execution_count": 11,
   "metadata": {},
   "outputs": [
    {
     "data": {
      "text/plain": [
       "[<title> The story of Tom and Jerry </title>]"
      ]
     },
     "execution_count": 11,
     "metadata": {},
     "output_type": "execute_result"
    }
   ],
   "source": [
    "\"immediate parent\"\n",
    "soup.select(\"head title\")"
   ]
  },
  {
   "cell_type": "code",
   "execution_count": 17,
   "metadata": {},
   "outputs": [
    {
     "name": "stdout",
     "output_type": "stream",
     "text": [
      "[]\n",
      "\n",
      "[<img alt=\"creator_image\" height=\"300\" name=\"Joseph_Barbera\" src=\"https://upload.wikimedia.org/wikipedia/commons/6/67/JBarbera.jpg\" width=\"300\"/>]\n"
     ]
    }
   ],
   "source": [
    "\"\"\"To force to return only immediate parent\"\"\"\n",
    "print(soup.select(\"body > img:nth-of-type(2)\"))\n",
    "print()\n",
    "print(soup.select(\"body > div > img:nth-of-type(2)\"))"
   ]
  },
  {
   "cell_type": "code",
   "execution_count": 21,
   "metadata": {},
   "outputs": [
    {
     "name": "stdout",
     "output_type": "stream",
     "text": [
      "[<a class=\"creator\" href=\"https://en.wikipedia.org/wiki/Joseph_Barbera\" id=\"link2\">Joseph Barbera</a>]\n",
      "[<a class=\"creator\" href=\"https://en.wikipedia.org/wiki/Joseph_Barbera\" id=\"link2\">Joseph Barbera</a>]\n"
     ]
    }
   ],
   "source": [
    "\"\"\"Below find the sibling of element with id link1 and \n",
    "the sibling should have the class creator\"\"\"\n",
    "print(soup.select(\"#link1 ~ .creator\")) # both + and ~ do the same operation\n",
    "print(soup.select(\"#link1 + .creator\"))"
   ]
  },
  {
   "cell_type": "code",
   "execution_count": 23,
   "metadata": {},
   "outputs": [
    {
     "name": "stdout",
     "output_type": "stream",
     "text": [
      "[<a class=\"creator\" href=\"https://en.wikipedia.org/wiki/William_Hanna\" id=\"link1\">William Hanna</a>, <a class=\"creator\" href=\"https://en.wikipedia.org/wiki/Joseph_Barbera\" id=\"link2\">Joseph Barbera</a>]\n",
      "\n",
      "[<a class=\"creator\" href=\"https://en.wikipedia.org/wiki/William_Hanna\" id=\"link1\">William Hanna</a>]\n"
     ]
    }
   ],
   "source": [
    "\"\"\"(.) represents class and # represents id\"\"\"\n",
    "print(soup.select(\".creator\"))\n",
    "print()\n",
    "print(soup.select(\"#link1\"))"
   ]
  },
  {
   "cell_type": "code",
   "execution_count": 25,
   "metadata": {},
   "outputs": [
    {
     "name": "stdout",
     "output_type": "stream",
     "text": [
      "[<p class=\"comedy animated series\">\n",
      "        Tom and Jerry is an American animated series of comedy short films created by \n",
      "        <a class=\"creator\" href=\"https://en.wikipedia.org/wiki/William_Hanna\" id=\"link1\">William Hanna</a> and  \n",
      "        <a class=\"creator\" href=\"https://en.wikipedia.org/wiki/Joseph_Barbera\" id=\"link2\">Joseph Barbera</a>. \n",
      "        It centers on a rivalry between the title characters\n",
      "        <a class=\"character\" href=\"https://en.wikipedia.org/wiki/Tom_Cat\" id=\"link3\">Tom</a>, a cat, and \n",
      "        <a class=\"character\" href=\"https://en.wikipedia.org/wiki/Jerry_Mouse\" id=\"link4\">Jerry</a>, a mouse.</p>]\n"
     ]
    }
   ],
   "source": [
    "\"\"\"The syntax for class can be . or like below\"\"\"\n",
    "print(soup.select(\"[class~=animated]\"))"
   ]
  },
  {
   "cell_type": "code",
   "execution_count": 30,
   "metadata": {},
   "outputs": [
    {
     "name": "stdout",
     "output_type": "stream",
     "text": [
      "[<a class=\"creator\" href=\"https://en.wikipedia.org/wiki/William_Hanna\" id=\"link1\">William Hanna</a>]\n",
      "[<a class=\"creator\" href=\"https://en.wikipedia.org/wiki/Joseph_Barbera\" id=\"link2\">Joseph Barbera</a>]\n"
     ]
    }
   ],
   "source": [
    "\"\"\"Find a tags with id = link1\"\"\"\n",
    "print(soup.select(\"a#link1\"))\n",
    "\"\"\"Find a tags with id = link2 and class=creator\"\"\"\n",
    "print(soup.select(\"a.creator#link2\"))\n"
   ]
  },
  {
   "cell_type": "code",
   "execution_count": 29,
   "metadata": {},
   "outputs": [
    {
     "data": {
      "text/plain": [
       "[<a class=\"creator\" href=\"https://en.wikipedia.org/wiki/William_Hanna\" id=\"link1\">William Hanna</a>,\n",
       " <a class=\"creator\" href=\"https://en.wikipedia.org/wiki/Joseph_Barbera\" id=\"link2\">Joseph Barbera</a>,\n",
       " <a class=\"character\" href=\"https://en.wikipedia.org/wiki/Tom_Cat\" id=\"link3\">Tom</a>,\n",
       " <a class=\"character\" href=\"https://en.wikipedia.org/wiki/Jerry_Mouse\" id=\"link4\">Jerry</a>]"
      ]
     },
     "execution_count": 29,
     "metadata": {},
     "output_type": "execute_result"
    }
   ],
   "source": [
    "\"\"\"Find a tags with some/any value in href\"\"\"\n",
    "soup.select(\"a[href]\")"
   ]
  },
  {
   "cell_type": "code",
   "execution_count": 32,
   "metadata": {},
   "outputs": [
    {
     "data": {
      "text/plain": [
       "[<img alt=\"creator_image\" height=\"300\" name=\"Joseph_Barbera\" src=\"https://upload.wikimedia.org/wikipedia/commons/6/67/JBarbera.jpg\" width=\"300\"/>]"
      ]
     },
     "execution_count": 32,
     "metadata": {},
     "output_type": "execute_result"
    }
   ],
   "source": [
    "# print(soup.prettify())\n",
    "\"\"\"Exact match\"\"\"\n",
    "soup.select('img[src=\"https://upload.wikimedia.org/wikipedia/commons/6/67/JBarbera.jpg\"]')"
   ]
  },
  {
   "cell_type": "code",
   "execution_count": 33,
   "metadata": {},
   "outputs": [
    {
     "data": {
      "text/plain": [
       "[<img alt=\"cartoon_image\" height=\"300\" src=\"TomAndJerry.jpg\" width=\"300\"/>,\n",
       " <img alt=\"creator_image\" height=\"300\" name=\"William_Hanna\" src=\"https://upload.wikimedia.org/wikipedia/commons/d/d2/William_Hanna_1977.jpg\" width=\"300\"/>,\n",
       " <img alt=\"creator_image\" height=\"300\" name=\"Joseph_Barbera\" src=\"https://upload.wikimedia.org/wikipedia/commons/6/67/JBarbera.jpg\" width=\"300\"/>]"
      ]
     },
     "execution_count": 33,
     "metadata": {},
     "output_type": "execute_result"
    }
   ],
   "source": [
    "\"\"\"Regular expression\"\"\"\n",
    "\"\"\"$ - endswith\"\"\"\n",
    "soup.select('img[src$=\".jpg\"]')"
   ]
  },
  {
   "cell_type": "code",
   "execution_count": 35,
   "metadata": {},
   "outputs": [
    {
     "data": {
      "text/plain": [
       "[<img alt=\"creator_image\" height=\"300\" name=\"William_Hanna\" src=\"https://upload.wikimedia.org/wikipedia/commons/d/d2/William_Hanna_1977.jpg\" width=\"300\"/>,\n",
       " <img alt=\"creator_image\" height=\"300\" name=\"Joseph_Barbera\" src=\"https://upload.wikimedia.org/wikipedia/commons/6/67/JBarbera.jpg\" width=\"300\"/>,\n",
       " <img src=\"https://upload.wikimedia.org/wikipedia/en/2/2f/Jerry_Mouse.png\"/>,\n",
       " <img extra-info=\"Tom_Cat\" src=\"https://upload.wikimedia.org/wikipedia/en/f/f6/Tom_Tom_and_Jerry.png\"/>]"
      ]
     },
     "execution_count": 35,
     "metadata": {},
     "output_type": "execute_result"
    }
   ],
   "source": [
    "soup.select('img[src^=\"https\"]')"
   ]
  },
  {
   "cell_type": "code",
   "execution_count": 36,
   "metadata": {},
   "outputs": [
    {
     "data": {
      "text/plain": [
       "[<img alt=\"creator_image\" height=\"300\" name=\"William_Hanna\" src=\"https://upload.wikimedia.org/wikipedia/commons/d/d2/William_Hanna_1977.jpg\" width=\"300\"/>,\n",
       " <img alt=\"creator_image\" height=\"300\" name=\"Joseph_Barbera\" src=\"https://upload.wikimedia.org/wikipedia/commons/6/67/JBarbera.jpg\" width=\"300\"/>,\n",
       " <img src=\"https://upload.wikimedia.org/wikipedia/en/2/2f/Jerry_Mouse.png\"/>,\n",
       " <img extra-info=\"Tom_Cat\" src=\"https://upload.wikimedia.org/wikipedia/en/f/f6/Tom_Tom_and_Jerry.png\"/>]"
      ]
     },
     "execution_count": 36,
     "metadata": {},
     "output_type": "execute_result"
    }
   ],
   "source": [
    "soup.select('img[src*=\".org\"]')"
   ]
  },
  {
   "cell_type": "code",
   "execution_count": null,
   "metadata": {},
   "outputs": [],
   "source": [
    "\"\"\"XML\"\"\""
   ]
  }
 ],
 "metadata": {
  "kernelspec": {
   "display_name": "Python 3",
   "language": "python",
   "name": "python3"
  },
  "language_info": {
   "codemirror_mode": {
    "name": "ipython",
    "version": 3
   },
   "file_extension": ".py",
   "mimetype": "text/x-python",
   "name": "python",
   "nbconvert_exporter": "python",
   "pygments_lexer": "ipython3",
   "version": "3.7.4"
  }
 },
 "nbformat": 4,
 "nbformat_minor": 2
}
