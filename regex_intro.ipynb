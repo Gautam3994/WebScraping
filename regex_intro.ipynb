{
 "cells": [
  {
   "cell_type": "code",
   "execution_count": 1,
   "metadata": {
    "ExecuteTime": {
     "end_time": "2020-03-04T09:32:36.183391Z",
     "start_time": "2020-03-04T09:32:36.162269Z"
    },
    "collapsed": true
   },
   "outputs": [
    {
     "name": "stdout",
     "output_type": "stream",
     "text": [
      "['A', 'ASCII', 'DEBUG', 'DOTALL', 'I', 'IGNORECASE', 'L', 'LOCALE', 'M', 'MULTILINE', 'Match', 'Pattern', 'RegexFlag', 'S', 'Scanner', 'T', 'TEMPLATE', 'U', 'UNICODE', 'VERBOSE', 'X', '_MAXCACHE', '__all__', '__builtins__', '__cached__', '__doc__', '__file__', '__loader__', '__name__', '__package__', '__spec__', '__version__', '_cache', '_compile', '_compile_repl', '_expand', '_locale', '_pickle', '_special_chars_map', '_subx', 'compile', 'copyreg', 'enum', 'error', 'escape', 'findall', 'finditer', 'fullmatch', 'functools', 'match', 'purge', 'search', 'split', 'sre_compile', 'sre_parse', 'sub', 'subn', 'template']\n"
     ]
    }
   ],
   "source": [
    "import re\n",
    "print(dir(re))"
   ]
  },
  {
   "cell_type": "code",
   "execution_count": 2,
   "metadata": {
    "ExecuteTime": {
     "end_time": "2020-03-04T09:32:36.280663Z",
     "start_time": "2020-03-04T09:32:36.197852Z"
    },
    "collapsed": true
   },
   "outputs": [
    {
     "name": "stdout",
     "output_type": "stream",
     "text": [
      "\tTab\n",
      "\\tTab\n"
     ]
    }
   ],
   "source": [
    "# r causes \\ to be considered normally\n",
    "print('\\tTab')\n",
    "print(r\"\\tTab\")"
   ]
  },
  {
   "cell_type": "code",
   "execution_count": 37,
   "metadata": {
    "ExecuteTime": {
     "end_time": "2020-03-04T09:32:36.378531Z",
     "start_time": "2020-03-04T09:32:36.290390Z"
    }
   },
   "outputs": [],
   "source": [
    "text_to_search = '''\n",
    "abcdefghijklmnopqurtuvwxyz\n",
    "ABCDEFGHIJKLMNOPQRSTUVWXYZ\n",
    "1234567890\n",
    "Ha HaHa\n",
    "MetaCharacters (Need to be escaped):\n",
    ". ^ $ * + ? { } [ ] \\ | ( )\n",
    "coreyms.com\n",
    "321-555-4321\n",
    "123.555.1234\n",
    "123*555*1234\n",
    "800-555-1234\n",
    "900-555-1234\n",
    "Mr. Schafer\n",
    "Mr Smith\n",
    "Ms Davis\n",
    "Mrs. Robinson\n",
    "Mr. T\n",
    "\n",
    "cat\n",
    "mat\n",
    "bat\n",
    "rat\n",
    "'''\n",
    "\n",
    "sentence = 'Start a sentence and then bring it to an end'"
   ]
  },
  {
   "cell_type": "code",
   "execution_count": 4,
   "metadata": {
    "ExecuteTime": {
     "end_time": "2020-03-04T09:32:36.501821Z",
     "start_time": "2020-03-04T09:32:36.384698Z"
    },
    "collapsed": true
   },
   "outputs": [
    {
     "name": "stdout",
     "output_type": "stream",
     "text": [
      "<re.Match object; span=(1, 4), match='abc'>\n"
     ]
    }
   ],
   "source": [
    "pattern =  re.compile(r'abc')\n",
    "matches  = pattern.finditer(text_to_search)\n",
    "for match in matches:\n",
    "    print(match)"
   ]
  },
  {
   "cell_type": "code",
   "execution_count": 5,
   "metadata": {
    "ExecuteTime": {
     "end_time": "2020-03-04T09:32:36.591179Z",
     "start_time": "2020-03-04T09:32:36.511405Z"
    },
    "collapsed": true
   },
   "outputs": [
    {
     "data": {
      "text/plain": [
       "'abc'"
      ]
     },
     "execution_count": 5,
     "metadata": {},
     "output_type": "execute_result"
    }
   ],
   "source": [
    "text_to_search[1:4]"
   ]
  },
  {
   "cell_type": "code",
   "execution_count": 6,
   "metadata": {
    "ExecuteTime": {
     "end_time": "2020-03-04T09:32:36.692847Z",
     "start_time": "2020-03-04T09:32:36.597054Z"
    },
    "collapsed": true
   },
   "outputs": [
    {
     "name": "stdout",
     "output_type": "stream",
     "text": [
      "<re.Match object; span=(139, 150), match='coreyms.com'>\n"
     ]
    }
   ],
   "source": [
    "# metacharacters \n",
    "pattern = re.compile(r'.')\n",
    "matches = pattern.finditer(text_to_search)\n",
    "# for match in matches:\n",
    "#     print(match)\n",
    "\"\"\"\n",
    "The dot symbol will return everyline - as it is special character in regex\n",
    "To overcome such character we have to \n",
    "\"\"\"\n",
    "pattern = re.compile(r'coreyms\\.com')\n",
    "matches = pattern.finditer(text_to_search)\n",
    "for match in matches:\n",
    "    print(match)\n"
   ]
  },
  {
   "cell_type": "code",
   "execution_count": 7,
   "metadata": {
    "ExecuteTime": {
     "end_time": "2020-03-04T09:32:36.760243Z",
     "start_time": "2020-03-04T09:32:36.708989Z"
    },
    "collapsed": true
   },
   "outputs": [
    {
     "data": {
      "text/plain": [
       "'\\n.       - Any Character Except New Line\\n\\\\d      - Digit (0-9)\\n\\\\D      - Not a Digit (0-9)\\n\\\\w      - Word Character (a-z, A-Z, 0-9, _)\\n\\\\W      - Not a Word Character\\n\\\\s      - Whitespace (space, tab, newline)\\n\\\\S      - Not Whitespace (space, tab, newline)\\n\\n\\x08      - Word Boundary\\n\\\\B      - Not a Word Boundary\\n^       - Beginning of a String\\n$       - End of a String\\n\\n[]      - Matches Characters in brackets\\n[^ ]    - Matches Characters NOT in brackets\\n|       - Either Or\\n( )     - Group\\n\\nQuantifiers:\\n*       - 0 or More\\n+       - 1 or More\\n\\n?       - 0 or One\\n{3}     - Exact Number\\n{3,4}   - Range of Numbers (Minimum, Maximum)\\n\\n\\n#### Sample Regexs ####\\n'"
      ]
     },
     "execution_count": 7,
     "metadata": {},
     "output_type": "execute_result"
    }
   ],
   "source": [
    "\"\"\"\n",
    ".       - Any Character Except New Line\n",
    "\\d      - Digit (0-9)\n",
    "\\D      - Not a Digit (0-9)\n",
    "\\w      - Word Character (a-z, A-Z, 0-9, _)\n",
    "\\W      - Not a Word Character\n",
    "\\s      - Whitespace (space, tab, newline)\n",
    "\\S      - Not Whitespace (space, tab, newline)\n",
    "\n",
    "\\b      - Word Boundary\n",
    "\\B      - Not a Word Boundary\n",
    "^       - Beginning of a String\n",
    "$       - End of a String\n",
    "\n",
    "[]      - Matches Characters in brackets\n",
    "[^ ]    - Matches Characters NOT in brackets\n",
    "|       - Either Or\n",
    "( )     - Group\n",
    "\n",
    "Quantifiers:\n",
    "*       - 0 or More\n",
    "+       - 1 or More\n",
    "\n",
    "?       - 0 or One\n",
    "{3}     - Exact Number\n",
    "{3,4}   - Range of Numbers (Minimum, Maximum)\n",
    "\n",
    "\n",
    "#### Sample Regexs ####\n",
    "\"\"\""
   ]
  },
  {
   "cell_type": "code",
   "execution_count": 8,
   "metadata": {
    "collapsed": true
   },
   "outputs": [
    {
     "name": "stdout",
     "output_type": "stream",
     "text": [
      "<re.Match object; span=(66, 68), match='Ha'>\n",
      "<re.Match object; span=(69, 71), match='Ha'>\n"
     ]
    }
   ],
   "source": [
    "\"\"\"Empty spaces are considered as word boundaries\"\"\"\n",
    "pattern = re.compile(r'\\bHa')\n",
    "matches = pattern.finditer(text_to_search)\n",
    "for match in matches:\n",
    "    print(match)"
   ]
  },
  {
   "cell_type": "code",
   "execution_count": 9,
   "metadata": {
    "collapsed": true
   },
   "outputs": [
    {
     "name": "stdout",
     "output_type": "stream",
     "text": [
      "<re.Match object; span=(71, 73), match='Ha'>\n"
     ]
    }
   ],
   "source": [
    "pattern = re.compile(r'\\BHa')\n",
    "matches = pattern.finditer(text_to_search)\n",
    "for match in matches:\n",
    "    print(match)"
   ]
  },
  {
   "cell_type": "code",
   "execution_count": 10,
   "metadata": {
    "collapsed": true
   },
   "outputs": [
    {
     "name": "stdout",
     "output_type": "stream",
     "text": [
      "<re.Match object; span=(41, 44), match='end'>\n"
     ]
    }
   ],
   "source": [
    "# pattern = re.compile(r'^Start')\n",
    "pattern = re.compile(r'end$')\n",
    "matches = pattern.finditer(sentence)\n",
    "for match in matches:\n",
    "    print(match)"
   ]
  },
  {
   "cell_type": "code",
   "execution_count": 11,
   "metadata": {
    "collapsed": true
   },
   "outputs": [
    {
     "name": "stdout",
     "output_type": "stream",
     "text": [
      "<re.Match object; span=(2, 3), match='a'>\n",
      "<re.Match object; span=(6, 7), match='a'>\n",
      "<re.Match object; span=(17, 18), match='a'>\n",
      "<re.Match object; span=(26, 27), match='b'>\n",
      "<re.Match object; span=(38, 39), match='a'>\n"
     ]
    }
   ],
   "source": [
    "pattern = re.compile(r'[ab]')\n",
    "\"\"\"Dont leave spaces like below\"\"\"\n",
    "# pattern = re.compile(r'[a, b]')\n",
    "matches = pattern.finditer(sentence)\n",
    "for match in matches:\n",
    "    print(match)"
   ]
  },
  {
   "cell_type": "code",
   "execution_count": 12,
   "metadata": {
    "collapsed": true
   },
   "outputs": [
    {
     "name": "stdout",
     "output_type": "stream",
     "text": [
      "<re.Match object; span=(0, 1), match='S'>\n",
      "<re.Match object; span=(1, 2), match='t'>\n",
      "<re.Match object; span=(3, 4), match='r'>\n",
      "<re.Match object; span=(4, 5), match='t'>\n",
      "<re.Match object; span=(5, 6), match=' '>\n",
      "<re.Match object; span=(7, 8), match=' '>\n",
      "<re.Match object; span=(8, 9), match='s'>\n",
      "<re.Match object; span=(9, 10), match='e'>\n",
      "<re.Match object; span=(10, 11), match='n'>\n",
      "<re.Match object; span=(11, 12), match='t'>\n",
      "<re.Match object; span=(12, 13), match='e'>\n",
      "<re.Match object; span=(13, 14), match='n'>\n",
      "<re.Match object; span=(14, 15), match='c'>\n",
      "<re.Match object; span=(15, 16), match='e'>\n",
      "<re.Match object; span=(16, 17), match=' '>\n",
      "<re.Match object; span=(18, 19), match='n'>\n",
      "<re.Match object; span=(19, 20), match='d'>\n",
      "<re.Match object; span=(20, 21), match=' '>\n",
      "<re.Match object; span=(21, 22), match='t'>\n",
      "<re.Match object; span=(22, 23), match='h'>\n",
      "<re.Match object; span=(23, 24), match='e'>\n",
      "<re.Match object; span=(24, 25), match='n'>\n",
      "<re.Match object; span=(25, 26), match=' '>\n",
      "<re.Match object; span=(27, 28), match='r'>\n",
      "<re.Match object; span=(28, 29), match='i'>\n",
      "<re.Match object; span=(29, 30), match='n'>\n",
      "<re.Match object; span=(30, 31), match='g'>\n",
      "<re.Match object; span=(31, 32), match=' '>\n",
      "<re.Match object; span=(32, 33), match='i'>\n",
      "<re.Match object; span=(33, 34), match='t'>\n",
      "<re.Match object; span=(34, 35), match=' '>\n",
      "<re.Match object; span=(35, 36), match='t'>\n",
      "<re.Match object; span=(36, 37), match='o'>\n",
      "<re.Match object; span=(37, 38), match=' '>\n",
      "<re.Match object; span=(39, 40), match='n'>\n",
      "<re.Match object; span=(40, 41), match=' '>\n",
      "<re.Match object; span=(41, 42), match='e'>\n",
      "<re.Match object; span=(42, 43), match='n'>\n",
      "<re.Match object; span=(43, 44), match='d'>\n"
     ]
    }
   ],
   "source": [
    "pattern = re.compile(r'[^ab]')\n",
    "\"\"\"If leave spaces like below spaces wont be included as part of the result\"\"\"\n",
    "# pattern = re.compile(r'[^ab ]')\n",
    "matches = pattern.finditer(sentence)\n",
    "for match in matches:\n",
    "    print(match)"
   ]
  },
  {
   "cell_type": "code",
   "execution_count": 13,
   "metadata": {
    "collapsed": true
   },
   "outputs": [
    {
     "name": "stdout",
     "output_type": "stream",
     "text": [
      "<re.Match object; span=(151, 162), match='321-555-432'>\n",
      "<re.Match object; span=(190, 201), match='800-555-123'>\n",
      "<re.Match object; span=(203, 214), match='900-555-123'>\n"
     ]
    }
   ],
   "source": [
    "pattern = re.compile(r'\\d\\d\\d-\\d\\d\\d-\\d\\d\\d\\d')\n",
    "matches = pattern.finditer(text_to_search)\n",
    "for match in matches:\n",
    "    print(match)"
   ]
  },
  {
   "cell_type": "code",
   "execution_count": 14,
   "metadata": {
    "collapsed": true
   },
   "outputs": [
    {
     "name": "stdout",
     "output_type": "stream",
     "text": [
      "<re.Match object; span=(151, 162), match='321-555-432'>\n",
      "<re.Match object; span=(164, 175), match='123.555.123'>\n",
      "<re.Match object; span=(177, 188), match='123*555*123'>\n",
      "<re.Match object; span=(190, 201), match='800-555-123'>\n",
      "<re.Match object; span=(203, 214), match='900-555-123'>\n"
     ]
    }
   ],
   "source": [
    "# If you use (.) it will match any character in that space\n",
    "pattern = re.compile(r'\\d\\d\\d.\\d\\d\\d.\\d\\d\\d\\d')\n",
    "matches = pattern.finditer(text_to_search)\n",
    "for match in matches:\n",
    "    print(match)"
   ]
  },
  {
   "cell_type": "code",
   "execution_count": 15,
   "metadata": {
    "collapsed": true
   },
   "outputs": [
    {
     "name": "stdout",
     "output_type": "stream",
     "text": [
      "<re.Match object; span=(151, 162), match='321-555-432'>\n",
      "<re.Match object; span=(164, 175), match='123.555.123'>\n",
      "<re.Match object; span=(190, 201), match='800-555-123'>\n",
      "<re.Match object; span=(203, 214), match='900-555-123'>\n"
     ]
    }
   ],
   "source": [
    "# It doesnt matter how many characters are there inside brackets it will count as one\n",
    "pattern = re.compile(r'\\d\\d\\d[-.]\\d\\d\\d[-.]\\d\\d\\d')\n",
    "matches = pattern.finditer(text_to_search)\n",
    "for match in matches:\n",
    "    print(match)"
   ]
  },
  {
   "cell_type": "code",
   "execution_count": 20,
   "metadata": {
    "collapsed": true
   },
   "outputs": [
    {
     "name": "stdout",
     "output_type": "stream",
     "text": [
      "<re.Match object; span=(12, 23), match='615-555-716'>\n",
      "<re.Match object; span=(102, 113), match='800-555-566'>\n",
      "<re.Match object; span=(191, 202), match='560-555-515'>\n",
      "<re.Match object; span=(281, 292), match='900-555-934'>\n",
      "<re.Match object; span=(378, 389), match='714-555-740'>\n",
      "<re.Match object; span=(467, 478), match='800-555-677'>\n",
      "<re.Match object; span=(557, 568), match='783-555-479'>\n",
      "<re.Match object; span=(647, 658), match='516-555-461'>\n",
      "<re.Match object; span=(740, 751), match='127-555-186'>\n",
      "<re.Match object; span=(829, 840), match='608-555-493'>\n",
      "<re.Match object; span=(915, 926), match='568-555-605'>\n",
      "<re.Match object; span=(1003, 1014), match='292-555-187'>\n",
      "<re.Match object; span=(1091, 1102), match='900-555-320'>\n",
      "<re.Match object; span=(1180, 1191), match='614-555-116'>\n",
      "<re.Match object; span=(1269, 1280), match='530-555-267'>\n",
      "<re.Match object; span=(1355, 1366), match='470-555-275'>\n",
      "<re.Match object; span=(1439, 1450), match='800-555-608'>\n",
      "<re.Match object; span=(1526, 1537), match='880-555-831'>\n",
      "<re.Match object; span=(1614, 1625), match='777-555-837'>\n",
      "<re.Match object; span=(1697, 1708), match='998-555-738'>\n",
      "<re.Match object; span=(1790, 1801), match='800-555-710'>\n",
      "<re.Match object; span=(1874, 1885), match='903-555-827'>\n",
      "<re.Match object; span=(1962, 1973), match='196-555-567'>\n",
      "<re.Match object; span=(2051, 2062), match='900-555-511'>\n",
      "<re.Match object; span=(2135, 2146), match='905-555-163'>\n",
      "<re.Match object; span=(2216, 2227), match='203-555-347'>\n",
      "<re.Match object; span=(2300, 2311), match='884-555-844'>\n",
      "<re.Match object; span=(2387, 2398), match='904-555-855'>\n",
      "<re.Match object; span=(2475, 2486), match='889-555-739'>\n",
      "<re.Match object; span=(2562, 2573), match='195-555-240'>\n",
      "<re.Match object; span=(2647, 2658), match='321-555-905'>\n",
      "<re.Match object; span=(2734, 2745), match='133-555-171'>\n",
      "<re.Match object; span=(2826, 2837), match='900-555-542'>\n",
      "<re.Match object; span=(2915, 2926), match='760-555-714'>\n",
      "<re.Match object; span=(3012, 3023), match='391-555-662'>\n",
      "<re.Match object; span=(3103, 3114), match='932-555-772'>\n",
      "<re.Match object; span=(3192, 3203), match='609-555-790'>\n",
      "<re.Match object; span=(3284, 3295), match='800-555-881'>\n",
      "<re.Match object; span=(3372, 3383), match='149-555-765'>\n",
      "<re.Match object; span=(3452, 3463), match='130-555-970'>\n",
      "<re.Match object; span=(3535, 3546), match='143-555-929'>\n",
      "<re.Match object; span=(3624, 3635), match='903-555-987'>\n",
      "<re.Match object; span=(3714, 3725), match='574-555-319'>\n",
      "<re.Match object; span=(3802, 3813), match='496-555-753'>\n",
      "<re.Match object; span=(3887, 3898), match='210-555-375'>\n",
      "<re.Match object; span=(3971, 3982), match='900-555-959'>\n",
      "<re.Match object; span=(4056, 4067), match='866-555-984'>\n",
      "<re.Match object; span=(4140, 4151), match='669-555-715'>\n",
      "<re.Match object; span=(4225, 4236), match='152-555-741'>\n",
      "<re.Match object; span=(4317, 4328), match='893-555-983'>\n",
      "<re.Match object; span=(4407, 4418), match='217-555-712'>\n",
      "<re.Match object; span=(4498, 4509), match='786-555-654'>\n",
      "<re.Match object; span=(4588, 4599), match='780-555-257'>\n",
      "<re.Match object; span=(4676, 4687), match='926-555-873'>\n",
      "<re.Match object; span=(4762, 4773), match='895-555-353'>\n",
      "<re.Match object; span=(4859, 4870), match='874-555-394'>\n",
      "<re.Match object; span=(4945, 4956), match='800-555-242'>\n",
      "<re.Match object; span=(5034, 5045), match='936-555-634'>\n",
      "<re.Match object; span=(5123, 5134), match='372-555-980'>\n",
      "<re.Match object; span=(5210, 5221), match='890-555-561'>\n",
      "<re.Match object; span=(5292, 5303), match='670-555-300'>\n",
      "<re.Match object; span=(5382, 5393), match='509-555-599'>\n",
      "<re.Match object; span=(5475, 5486), match='721-555-563'>\n",
      "<re.Match object; span=(5566, 5577), match='900-555-356'>\n",
      "<re.Match object; span=(5656, 5667), match='147-555-683'>\n",
      "<re.Match object; span=(5745, 5756), match='582-555-342'>\n",
      "<re.Match object; span=(5830, 5841), match='400-555-170'>\n",
      "<re.Match object; span=(5921, 5932), match='525-555-179'>\n",
      "<re.Match object; span=(6011, 6022), match='317-555-670'>\n",
      "<re.Match object; span=(6099, 6110), match='974-555-830'>\n",
      "<re.Match object; span=(6189, 6200), match='800-555-321'>\n",
      "<re.Match object; span=(6273, 6284), match='746-555-409'>\n",
      "<re.Match object; span=(6360, 6371), match='922-555-177'>\n",
      "<re.Match object; span=(6445, 6456), match='711-555-442'>\n",
      "<re.Match object; span=(6530, 6541), match='355-555-187'>\n",
      "<re.Match object; span=(6619, 6630), match='852-555-652'>\n",
      "<re.Match object; span=(6711, 6722), match='691-555-577'>\n",
      "<re.Match object; span=(6803, 6814), match='332-555-544'>\n",
      "<re.Match object; span=(6889, 6900), match='900-555-775'>\n",
      "<re.Match object; span=(6971, 6982), match='379-555-368'>\n",
      "<re.Match object; span=(7061, 7072), match='127-555-968'>\n",
      "<re.Match object; span=(7152, 7163), match='789-555-703'>\n",
      "<re.Match object; span=(7243, 7254), match='783-555-513'>\n",
      "<re.Match object; span=(7336, 7347), match='315-555-650'>\n",
      "<re.Match object; span=(7427, 7438), match='481-555-583'>\n",
      "<re.Match object; span=(7515, 7526), match='365-555-828'>\n",
      "<re.Match object; span=(7607, 7618), match='911-555-753'>\n",
      "<re.Match object; span=(7693, 7704), match='681-555-246'>\n",
      "<re.Match object; span=(7779, 7790), match='274-555-980'>\n",
      "<re.Match object; span=(7864, 7875), match='800-555-137'>\n",
      "<re.Match object; span=(7953, 7964), match='300-555-782'>\n",
      "<re.Match object; span=(8043, 8054), match='133-555-388'>\n",
      "<re.Match object; span=(8129, 8140), match='705-555-686'>\n",
      "<re.Match object; span=(8218, 8229), match='215-555-944'>\n",
      "<re.Match object; span=(8309, 8320), match='988-555-611'>\n",
      "<re.Match object; span=(8395, 8406), match='623-555-300'>\n",
      "<re.Match object; span=(8479, 8490), match='192-555-497'>\n",
      "<re.Match object; span=(8564, 8575), match='178-555-489'>\n",
      "<re.Match object; span=(8648, 8659), match='952-555-308'>\n",
      "<re.Match object; span=(8741, 8752), match='900-555-642'>\n"
     ]
    }
   ],
   "source": [
    "# Working with files\n",
    "pattern = re.compile(r'\\d\\d\\d[-.]\\d\\d\\d[-.]\\d\\d\\d')\n",
    "with open('data.txt') as txt:\n",
    "    file_content = txt.read()\n",
    "matches = pattern.finditer(file_content)\n",
    "for match in matches:\n",
    "    print(match)"
   ]
  },
  {
   "cell_type": "code",
   "execution_count": 25,
   "metadata": {
    "collapsed": true
   },
   "outputs": [
    {
     "name": "stdout",
     "output_type": "stream",
     "text": [
      "<re.Match object; span=(102, 113), match='800-555-566'>\n",
      "<re.Match object; span=(281, 292), match='900-555-934'>\n",
      "<re.Match object; span=(467, 478), match='800-555-677'>\n",
      "<re.Match object; span=(1091, 1102), match='900-555-320'>\n",
      "<re.Match object; span=(1439, 1450), match='800-555-608'>\n",
      "<re.Match object; span=(1790, 1801), match='800-555-710'>\n",
      "<re.Match object; span=(2051, 2062), match='900-555-511'>\n",
      "<re.Match object; span=(2826, 2837), match='900-555-542'>\n",
      "<re.Match object; span=(3284, 3295), match='800-555-881'>\n",
      "<re.Match object; span=(3971, 3982), match='900-555-959'>\n",
      "<re.Match object; span=(4945, 4956), match='800-555-242'>\n",
      "<re.Match object; span=(5566, 5577), match='900-555-356'>\n",
      "<re.Match object; span=(6189, 6200), match='800-555-321'>\n",
      "<re.Match object; span=(6889, 6900), match='900-555-775'>\n",
      "<re.Match object; span=(7864, 7875), match='800-555-137'>\n",
      "<re.Match object; span=(8741, 8752), match='900-555-642'>\n"
     ]
    }
   ],
   "source": [
    "# Working with particular characters\n",
    "pattern = re.compile(r'[89]00[-.]\\d\\d\\d[-.]\\d\\d\\d')\n",
    "matches = pattern.finditer(file_content)\n",
    "for match in matches:\n",
    "    print(match)"
   ]
  },
  {
   "cell_type": "code",
   "execution_count": 30,
   "metadata": {
    "collapsed": true
   },
   "outputs": [
    {
     "name": "stdout",
     "output_type": "stream",
     "text": [
      "<re.Match object; span=(1, 2), match='a'>\n",
      "<re.Match object; span=(2, 3), match='b'>\n",
      "<re.Match object; span=(3, 4), match='c'>\n",
      "<re.Match object; span=(4, 5), match='d'>\n",
      "<re.Match object; span=(5, 6), match='e'>\n",
      "<re.Match object; span=(6, 7), match='f'>\n",
      "<re.Match object; span=(7, 8), match='g'>\n",
      "<re.Match object; span=(8, 9), match='h'>\n",
      "<re.Match object; span=(9, 10), match='i'>\n",
      "<re.Match object; span=(10, 11), match='j'>\n",
      "<re.Match object; span=(11, 12), match='k'>\n",
      "<re.Match object; span=(12, 13), match='l'>\n",
      "<re.Match object; span=(13, 14), match='m'>\n",
      "<re.Match object; span=(14, 15), match='n'>\n",
      "<re.Match object; span=(15, 16), match='o'>\n",
      "<re.Match object; span=(16, 17), match='p'>\n",
      "<re.Match object; span=(17, 18), match='q'>\n",
      "<re.Match object; span=(18, 19), match='u'>\n",
      "<re.Match object; span=(19, 20), match='r'>\n",
      "<re.Match object; span=(20, 21), match='t'>\n",
      "<re.Match object; span=(21, 22), match='u'>\n",
      "<re.Match object; span=(22, 23), match='v'>\n",
      "<re.Match object; span=(23, 24), match='w'>\n",
      "<re.Match object; span=(24, 25), match='x'>\n",
      "<re.Match object; span=(25, 26), match='y'>\n",
      "<re.Match object; span=(26, 27), match='z'>\n",
      "<re.Match object; span=(67, 68), match='a'>\n",
      "<re.Match object; span=(70, 71), match='a'>\n",
      "<re.Match object; span=(72, 73), match='a'>\n",
      "<re.Match object; span=(75, 76), match='e'>\n",
      "<re.Match object; span=(76, 77), match='t'>\n",
      "<re.Match object; span=(77, 78), match='a'>\n",
      "<re.Match object; span=(79, 80), match='h'>\n",
      "<re.Match object; span=(80, 81), match='a'>\n",
      "<re.Match object; span=(81, 82), match='r'>\n",
      "<re.Match object; span=(82, 83), match='a'>\n",
      "<re.Match object; span=(83, 84), match='c'>\n",
      "<re.Match object; span=(84, 85), match='t'>\n",
      "<re.Match object; span=(85, 86), match='e'>\n",
      "<re.Match object; span=(86, 87), match='r'>\n",
      "<re.Match object; span=(87, 88), match='s'>\n",
      "<re.Match object; span=(91, 92), match='e'>\n",
      "<re.Match object; span=(92, 93), match='e'>\n",
      "<re.Match object; span=(93, 94), match='d'>\n",
      "<re.Match object; span=(95, 96), match='t'>\n",
      "<re.Match object; span=(96, 97), match='o'>\n",
      "<re.Match object; span=(98, 99), match='b'>\n",
      "<re.Match object; span=(99, 100), match='e'>\n",
      "<re.Match object; span=(101, 102), match='e'>\n",
      "<re.Match object; span=(102, 103), match='s'>\n",
      "<re.Match object; span=(103, 104), match='c'>\n",
      "<re.Match object; span=(104, 105), match='a'>\n",
      "<re.Match object; span=(105, 106), match='p'>\n",
      "<re.Match object; span=(106, 107), match='e'>\n",
      "<re.Match object; span=(107, 108), match='d'>\n",
      "<re.Match object; span=(139, 140), match='c'>\n",
      "<re.Match object; span=(140, 141), match='o'>\n",
      "<re.Match object; span=(141, 142), match='r'>\n",
      "<re.Match object; span=(142, 143), match='e'>\n",
      "<re.Match object; span=(143, 144), match='y'>\n",
      "<re.Match object; span=(144, 145), match='m'>\n",
      "<re.Match object; span=(145, 146), match='s'>\n",
      "<re.Match object; span=(147, 148), match='c'>\n",
      "<re.Match object; span=(148, 149), match='o'>\n",
      "<re.Match object; span=(149, 150), match='m'>\n",
      "<re.Match object; span=(217, 218), match='r'>\n",
      "<re.Match object; span=(221, 222), match='c'>\n",
      "<re.Match object; span=(222, 223), match='h'>\n",
      "<re.Match object; span=(223, 224), match='a'>\n",
      "<re.Match object; span=(224, 225), match='f'>\n",
      "<re.Match object; span=(225, 226), match='e'>\n",
      "<re.Match object; span=(226, 227), match='r'>\n",
      "<re.Match object; span=(229, 230), match='r'>\n",
      "<re.Match object; span=(232, 233), match='m'>\n",
      "<re.Match object; span=(233, 234), match='i'>\n",
      "<re.Match object; span=(234, 235), match='t'>\n",
      "<re.Match object; span=(235, 236), match='h'>\n",
      "<re.Match object; span=(238, 239), match='s'>\n",
      "<re.Match object; span=(241, 242), match='a'>\n",
      "<re.Match object; span=(242, 243), match='v'>\n",
      "<re.Match object; span=(243, 244), match='i'>\n",
      "<re.Match object; span=(244, 245), match='s'>\n",
      "<re.Match object; span=(247, 248), match='r'>\n",
      "<re.Match object; span=(248, 249), match='s'>\n",
      "<re.Match object; span=(252, 253), match='o'>\n",
      "<re.Match object; span=(253, 254), match='b'>\n",
      "<re.Match object; span=(254, 255), match='i'>\n",
      "<re.Match object; span=(255, 256), match='n'>\n",
      "<re.Match object; span=(256, 257), match='s'>\n",
      "<re.Match object; span=(257, 258), match='o'>\n",
      "<re.Match object; span=(258, 259), match='n'>\n",
      "<re.Match object; span=(261, 262), match='r'>\n"
     ]
    }
   ],
   "source": [
    "# - is also a special it will work normally when mentioned either at the end or the beginning.\n",
    "pattern = re.compile(r'[a-z]')\n",
    "# pattern = re.compile(r'[a-zA-Z0-9]')\n",
    "# pattern = re.compile(r'[^a-zA-Z0-9]') ^ when used inside of [] works as a not symbol\n",
    "matches = pattern.finditer(text_to_search)\n",
    "for match in matches:\n",
    "    print(match)"
   ]
  },
  {
   "cell_type": "code",
   "execution_count": 39,
   "metadata": {
    "collapsed": true
   },
   "outputs": [
    {
     "name": "stdout",
     "output_type": "stream",
     "text": [
      "<re.Match object; span=(267, 270), match='cat'>\n",
      "<re.Match object; span=(271, 274), match='mat'>\n",
      "<re.Match object; span=(275, 278), match='bat'>\n"
     ]
    }
   ],
   "source": [
    "pattern = re.compile(r'[^r]at')\n",
    "matches = pattern.finditer(text_to_search)\n",
    "for match in matches:\n",
    "    print(match)"
   ]
  },
  {
   "cell_type": "code",
   "execution_count": 43,
   "metadata": {},
   "outputs": [
    {
     "name": "stdout",
     "output_type": "stream",
     "text": [
      "<re.Match object; span=(151, 163), match='321-555-4321'>\n",
      "<re.Match object; span=(164, 176), match='123.555.1234'>\n",
      "<re.Match object; span=(177, 189), match='123*555*1234'>\n",
      "<re.Match object; span=(190, 202), match='800-555-1234'>\n",
      "<re.Match object; span=(203, 215), match='900-555-1234'>\n"
     ]
    }
   ],
   "source": [
    "# pattern = re.compile(r'\\d\\d\\d.\\d\\d\\d.\\d\\d\\d\\d')\n",
    "pattern = re.compile(r'\\d{3}.\\d{3}.\\d{4}')\n",
    "matches = pattern.finditer(text_to_search)\n",
    "for match in matches:\n",
    "    print(match)"
   ]
  },
  {
   "cell_type": "code",
   "execution_count": 69,
   "metadata": {},
   "outputs": [
    {
     "name": "stdout",
     "output_type": "stream",
     "text": [
      "<re.Match object; span=(216, 227), match='Mr. Schafer'>\n",
      "<re.Match object; span=(228, 236), match='Mr Smith'>\n",
      "<re.Match object; span=(237, 245), match='Ms Davis'>\n",
      "<re.Match object; span=(246, 259), match='Mrs. Robinson'>\n",
      "<re.Match object; span=(260, 265), match='Mr. T'>\n"
     ]
    }
   ],
   "source": [
    "pattern = re.compile(r'M\\w{1,2}\\.?\\s[A-Z]\\w*') # Reference the table @ [7] for clarifications\n",
    "# \\s refers to space you give it manually as well\n",
    "matches = pattern.finditer(text_to_search)\n",
    "for match in matches:\n",
    "    print(match)"
   ]
  },
  {
   "cell_type": "code",
   "execution_count": null,
   "metadata": {},
   "outputs": [],
   "source": []
  }
 ],
 "metadata": {
  "kernelspec": {
   "display_name": "Python 3",
   "language": "python",
   "name": "python3"
  },
  "language_info": {
   "codemirror_mode": {
    "name": "ipython",
    "version": 3
   },
   "file_extension": ".py",
   "mimetype": "text/x-python",
   "name": "python",
   "nbconvert_exporter": "python",
   "pygments_lexer": "ipython3",
   "version": "3.7.4"
  }
 },
 "nbformat": 4,
 "nbformat_minor": 2
}
