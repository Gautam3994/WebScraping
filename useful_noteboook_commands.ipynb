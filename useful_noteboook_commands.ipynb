{
 "cells": [
  {
   "cell_type": "code",
   "execution_count": 1,
   "metadata": {},
   "outputs": [],
   "source": [
    "# !pip install jupyterthemes\n",
    "# !pip install --upgrade jupyterthemes\n",
    "# !jt -l\n",
    "# !jt -t monokai\n",
    "# After this restart notebook to get the results\n",
    "\n",
    "\n"
   ]
  },
  {
   "cell_type": "code",
   "execution_count": 2,
   "metadata": {},
   "outputs": [
    {
     "name": "stdout",
     "output_type": "stream",
     "text": [
      "Collecting autopep8\n",
      "\u001b[?25l  Downloading https://files.pythonhosted.org/packages/12/55/7b07585ca0c30e5b216e4d627f82f96f1a7e82d2dd727b1f926cb3f3d58b/autopep8-1.5.tar.gz (116kB)\n",
      "\u001b[K     |████████████████████████████████| 122kB 546kB/s eta 0:00:01\n",
      "\u001b[?25hRequirement already satisfied: pycodestyle>=2.5.0 in /home/darkknight/anaconda3/lib/python3.7/site-packages (from autopep8) (2.5.0)\n",
      "Building wheels for collected packages: autopep8\n",
      "  Building wheel for autopep8 (setup.py) ... \u001b[?25ldone\n",
      "\u001b[?25h  Created wheel for autopep8: filename=autopep8-1.5-py2.py3-none-any.whl size=43268 sha256=6731f47fe6485a5b3639d837d05121315c08ac6edc4f01c9733370310bd629f3\n",
      "  Stored in directory: /home/darkknight/.cache/pip/wheels/2b/dc/d5/e4bc37df332b7a88022bc79d6cdccb79068fdc1620d86afc3a\n",
      "Successfully built autopep8\n",
      "Installing collected packages: autopep8\n",
      "Successfully installed autopep8-1.5\n"
     ]
    }
   ],
   "source": [
    "# !pip install jupyter_contrib_nbextensions \n",
    "# jupyter contrib nbextension install --user\n",
    "# Go to notebook main view where there will list of options available\n",
    "# Also check for dependencies\n",
    "!pip install autopep8"
   ]
  },
  {
   "cell_type": "code",
   "execution_count": null,
   "metadata": {},
   "outputs": [],
   "source": []
  }
 ],
 "metadata": {
  "kernelspec": {
   "display_name": "Python 3",
   "language": "python",
   "name": "python3"
  },
  "language_info": {
   "codemirror_mode": {
    "name": "ipython",
    "version": 3
   },
   "file_extension": ".py",
   "mimetype": "text/x-python",
   "name": "python",
   "nbconvert_exporter": "python",
   "pygments_lexer": "ipython3",
   "version": "3.7.4"
  }
 },
 "nbformat": 4,
 "nbformat_minor": 2
}
