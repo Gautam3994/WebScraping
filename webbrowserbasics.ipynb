{
 "cells": [
  {
   "cell_type": "code",
   "execution_count": 20,
   "metadata": {},
   "outputs": [
    {
     "data": {
      "text/plain": [
       "True"
      ]
     },
     "execution_count": 20,
     "metadata": {},
     "output_type": "execute_result"
    }
   ],
   "source": [
    "import webbrowser\n",
    "webbrowser.open(\"https://www.youtube.com/\")  # webbrowser.open(url=\"\", new=0, autoraise=True)\n",
    "# new = 0 - same browser window, 1 - new window, 2 - new tab you could also use\n",
    "# webbrowser.open_new / web.browser.open_new_tab"
   ]
  },
  {
   "cell_type": "code",
   "execution_count": 21,
   "metadata": {
    "scrolled": false
   },
   "outputs": [
    {
     "name": "stdout",
     "output_type": "stream",
     "text": [
      "<webbrowser.Chrome object at 0x7f195802aed0>\n",
      "<webbrowser.BackgroundBrowser object at 0x7f19487dadd0>\n"
     ]
    }
   ],
   "source": [
    "print(webbrowser.get())\n",
    "print(webbrowser.get('mozilla'))\n",
    "# to find the type of webbrowser we are working with"
   ]
  },
  {
   "cell_type": "code",
   "execution_count": 33,
   "metadata": {},
   "outputs": [
    {
     "ename": "TypeError",
     "evalue": "register() takes from 2 to 3 positional arguments but 4 were given",
     "output_type": "error",
     "traceback": [
      "\u001b[0;31m---------------------------------------------------------------------------\u001b[0m",
      "\u001b[0;31mTypeError\u001b[0m                                 Traceback (most recent call last)",
      "\u001b[0;32m<ipython-input-33-534a909c45aa>\u001b[0m in \u001b[0;36m<module>\u001b[0;34m\u001b[0m\n\u001b[1;32m      1\u001b[0m \u001b[0;31m# If you face the above error you have to register the browser first\u001b[0m\u001b[0;34m\u001b[0m\u001b[0;34m\u001b[0m\u001b[0;34m\u001b[0m\u001b[0m\n\u001b[0;32m----> 2\u001b[0;31m \u001b[0mmozilla\u001b[0m \u001b[0;34m=\u001b[0m \u001b[0mwebbrowser\u001b[0m\u001b[0;34m.\u001b[0m\u001b[0mregister\u001b[0m\u001b[0;34m(\u001b[0m\u001b[0;34m'mozilla'\u001b[0m\u001b[0;34m,\u001b[0m \u001b[0;32mNone\u001b[0m\u001b[0;34m,\u001b[0m \u001b[0mwebbrowser\u001b[0m\u001b[0;34m.\u001b[0m\u001b[0mBackgroundBrowser\u001b[0m\u001b[0;34m(\u001b[0m\u001b[0;34m\"/home/darkknight/.mozilla/firefox/69rvmhh0.default\"\u001b[0m\u001b[0;34m)\u001b[0m\u001b[0;34m,\u001b[0m \u001b[0;36m1\u001b[0m\u001b[0;34m)\u001b[0m\u001b[0;34m\u001b[0m\u001b[0;34m\u001b[0m\u001b[0m\n\u001b[0m",
      "\u001b[0;31mTypeError\u001b[0m: register() takes from 2 to 3 positional arguments but 4 were given"
     ]
    }
   ],
   "source": [
    "# If you face the above error you have to register the browser first\n",
    "mozilla = webbrowser.register('mozilla', None, webbrowser.BackgroundBrowser(\"/home/darkknight/.mozilla/firefox/69rvmhh0.default\"), 1)\n"
   ]
  },
  {
   "cell_type": "code",
   "execution_count": 23,
   "metadata": {
    "scrolled": true
   },
   "outputs": [
    {
     "data": {
      "text/plain": [
       "<webbrowser.BackgroundBrowser at 0x7f194817e090>"
      ]
     },
     "execution_count": 23,
     "metadata": {},
     "output_type": "execute_result"
    }
   ],
   "source": [
    "webbrowser.get('mozilla')"
   ]
  },
  {
   "cell_type": "code",
   "execution_count": 30,
   "metadata": {
    "scrolled": true
   },
   "outputs": [
    {
     "data": {
      "text/plain": [
       "True"
      ]
     },
     "execution_count": 30,
     "metadata": {},
     "output_type": "execute_result"
    }
   ],
   "source": [
    "# to open with a specific browser\n",
    "webbrowser.get('firefox').open_new(\"https://google.com\")"
   ]
  },
  {
   "cell_type": "code",
   "execution_count": 31,
   "metadata": {},
   "outputs": [
    {
     "data": {
      "text/plain": [
       "['google-chrome',\n",
       " 'xdg-open',\n",
       " 'gvfs-open',\n",
       " 'x-www-browser',\n",
       " 'firefox',\n",
       " 'mozilla',\n",
       " 'mozilla',\n",
       " 'mozilla']"
      ]
     },
     "execution_count": 31,
     "metadata": {},
     "output_type": "execute_result"
    }
   ],
   "source": [
    "webbrowser._tryorder"
   ]
  },
  {
   "cell_type": "code",
   "execution_count": 32,
   "metadata": {},
   "outputs": [
    {
     "data": {
      "text/plain": [
       "{'xdg-open': [None, <webbrowser.BackgroundBrowser at 0x7f195b093ad0>],\n",
       " 'gvfs-open': [None, <webbrowser.BackgroundBrowser at 0x7f19586ebe10>],\n",
       " 'x-www-browser': [None, <webbrowser.BackgroundBrowser at 0x7f195b03f590>],\n",
       " 'firefox': [None, <webbrowser.Mozilla at 0x7f195b03f7d0>],\n",
       " 'google-chrome': [None, <webbrowser.Chrome at 0x7f195802aed0>],\n",
       " 'mozilla': [None, <webbrowser.BackgroundBrowser at 0x7f194817e090>]}"
      ]
     },
     "execution_count": 32,
     "metadata": {},
     "output_type": "execute_result"
    }
   ],
   "source": [
    "webbrowser._browsers"
   ]
  },
  {
   "cell_type": "code",
   "execution_count": null,
   "metadata": {},
   "outputs": [],
   "source": []
  }
 ],
 "metadata": {
  "kernelspec": {
   "display_name": "Python 3",
   "language": "python",
   "name": "python3"
  },
  "language_info": {
   "codemirror_mode": {
    "name": "ipython",
    "version": 3
   },
   "file_extension": ".py",
   "mimetype": "text/x-python",
   "name": "python",
   "nbconvert_exporter": "python",
   "pygments_lexer": "ipython3",
   "version": "3.7.4"
  }
 },
 "nbformat": 4,
 "nbformat_minor": 2
}
